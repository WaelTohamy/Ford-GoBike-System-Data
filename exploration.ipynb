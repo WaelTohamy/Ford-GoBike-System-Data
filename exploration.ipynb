{
 "cells": [
  {
   "cell_type": "markdown",
   "id": "32a05aae",
   "metadata": {},
   "source": [
    "# Analysis Ford GoBike System Data Feb-2019\n",
    "###  By Wael Abd Elhady Tohamy\n",
    "\n",
    "### Introduction\n",
    "Bay Wheels is a regional public bicycle sharing system in California's San Francisco Bay Area. It is operated by Motivate in a partnership with the Metropolitan Transportation Commission and the Bay Area Air Quality Management District. Bay Wheels is 'the first regional and large-scale bicycle sharing system deployed in California and on the West Coast of the United States. It was established as Bay Area Bike Share in August 2013. As of January 2018, the Bay Wheels system had over 2,600 bicycles in 262 stations across San Francisco, East Bay and San Jose.\n",
    "\n",
    "In June 2017 the system was officially re-launched as Ford GoBike in a partnership with Ford Motor Company. After Motivate's acquisition by Lyft, the system was renamed to Bay Wheels in June 2019.The system is expected to expand to 7,000 bicycles around 540 stations in San Francisco, Oakland, Berkeley, Emeryville, and San Jose.Ford GoBike) is a regional public bike sharing system in the San Francisco Bay Area, California. Bay Wheels is the first regional and large-scale bicycle sharing system deployed in California and on the West Coast of the United States. (https://en.wikipedia.org/wiki/Bay_Wheels)\n",
    "\n",
    "## Preliminary Wrangling"
   ]
  },
  {
   "cell_type": "code",
   "execution_count": 109,
   "id": "1e5019d3",
   "metadata": {},
   "outputs": [],
   "source": [
    "# import all packages \n",
    "import numpy as np\n",
    "import pandas as pd\n",
    "import matplotlib.pyplot as plt\n",
    "import seaborn as sb\n",
    "\n",
    "%matplotlib inline"
   ]
  },
  {
   "cell_type": "markdown",
   "id": "1f3f91ee",
   "metadata": {},
   "source": [
    "### Gathering and Assessing Data"
   ]
  },
  {
   "cell_type": "code",
   "execution_count": 110,
   "id": "38fda587",
   "metadata": {},
   "outputs": [
    {
     "data": {
      "text/html": [
       "<div>\n",
       "<style scoped>\n",
       "    .dataframe tbody tr th:only-of-type {\n",
       "        vertical-align: middle;\n",
       "    }\n",
       "\n",
       "    .dataframe tbody tr th {\n",
       "        vertical-align: top;\n",
       "    }\n",
       "\n",
       "    .dataframe thead th {\n",
       "        text-align: right;\n",
       "    }\n",
       "</style>\n",
       "<table border=\"1\" class=\"dataframe\">\n",
       "  <thead>\n",
       "    <tr style=\"text-align: right;\">\n",
       "      <th></th>\n",
       "      <th>duration_sec</th>\n",
       "      <th>start_time</th>\n",
       "      <th>end_time</th>\n",
       "      <th>start_station_id</th>\n",
       "      <th>start_station_name</th>\n",
       "      <th>start_station_latitude</th>\n",
       "      <th>start_station_longitude</th>\n",
       "      <th>end_station_id</th>\n",
       "      <th>end_station_name</th>\n",
       "      <th>end_station_latitude</th>\n",
       "      <th>end_station_longitude</th>\n",
       "      <th>bike_id</th>\n",
       "      <th>user_type</th>\n",
       "      <th>member_birth_year</th>\n",
       "      <th>member_gender</th>\n",
       "      <th>bike_share_for_all_trip</th>\n",
       "    </tr>\n",
       "  </thead>\n",
       "  <tbody>\n",
       "    <tr>\n",
       "      <th>0</th>\n",
       "      <td>52185</td>\n",
       "      <td>2019-02-28 17:32:10.1450</td>\n",
       "      <td>2019-03-01 08:01:55.9750</td>\n",
       "      <td>21.0</td>\n",
       "      <td>Montgomery St BART Station (Market St at 2nd St)</td>\n",
       "      <td>37.789625</td>\n",
       "      <td>-122.400811</td>\n",
       "      <td>13.0</td>\n",
       "      <td>Commercial St at Montgomery St</td>\n",
       "      <td>37.794231</td>\n",
       "      <td>-122.402923</td>\n",
       "      <td>4902</td>\n",
       "      <td>Customer</td>\n",
       "      <td>1984.0</td>\n",
       "      <td>Male</td>\n",
       "      <td>No</td>\n",
       "    </tr>\n",
       "    <tr>\n",
       "      <th>1</th>\n",
       "      <td>42521</td>\n",
       "      <td>2019-02-28 18:53:21.7890</td>\n",
       "      <td>2019-03-01 06:42:03.0560</td>\n",
       "      <td>23.0</td>\n",
       "      <td>The Embarcadero at Steuart St</td>\n",
       "      <td>37.791464</td>\n",
       "      <td>-122.391034</td>\n",
       "      <td>81.0</td>\n",
       "      <td>Berry St at 4th St</td>\n",
       "      <td>37.775880</td>\n",
       "      <td>-122.393170</td>\n",
       "      <td>2535</td>\n",
       "      <td>Customer</td>\n",
       "      <td>NaN</td>\n",
       "      <td>NaN</td>\n",
       "      <td>No</td>\n",
       "    </tr>\n",
       "    <tr>\n",
       "      <th>2</th>\n",
       "      <td>61854</td>\n",
       "      <td>2019-02-28 12:13:13.2180</td>\n",
       "      <td>2019-03-01 05:24:08.1460</td>\n",
       "      <td>86.0</td>\n",
       "      <td>Market St at Dolores St</td>\n",
       "      <td>37.769305</td>\n",
       "      <td>-122.426826</td>\n",
       "      <td>3.0</td>\n",
       "      <td>Powell St BART Station (Market St at 4th St)</td>\n",
       "      <td>37.786375</td>\n",
       "      <td>-122.404904</td>\n",
       "      <td>5905</td>\n",
       "      <td>Customer</td>\n",
       "      <td>1972.0</td>\n",
       "      <td>Male</td>\n",
       "      <td>No</td>\n",
       "    </tr>\n",
       "    <tr>\n",
       "      <th>3</th>\n",
       "      <td>36490</td>\n",
       "      <td>2019-02-28 17:54:26.0100</td>\n",
       "      <td>2019-03-01 04:02:36.8420</td>\n",
       "      <td>375.0</td>\n",
       "      <td>Grove St at Masonic Ave</td>\n",
       "      <td>37.774836</td>\n",
       "      <td>-122.446546</td>\n",
       "      <td>70.0</td>\n",
       "      <td>Central Ave at Fell St</td>\n",
       "      <td>37.773311</td>\n",
       "      <td>-122.444293</td>\n",
       "      <td>6638</td>\n",
       "      <td>Subscriber</td>\n",
       "      <td>1989.0</td>\n",
       "      <td>Other</td>\n",
       "      <td>No</td>\n",
       "    </tr>\n",
       "    <tr>\n",
       "      <th>4</th>\n",
       "      <td>1585</td>\n",
       "      <td>2019-02-28 23:54:18.5490</td>\n",
       "      <td>2019-03-01 00:20:44.0740</td>\n",
       "      <td>7.0</td>\n",
       "      <td>Frank H Ogawa Plaza</td>\n",
       "      <td>37.804562</td>\n",
       "      <td>-122.271738</td>\n",
       "      <td>222.0</td>\n",
       "      <td>10th Ave at E 15th St</td>\n",
       "      <td>37.792714</td>\n",
       "      <td>-122.248780</td>\n",
       "      <td>4898</td>\n",
       "      <td>Subscriber</td>\n",
       "      <td>1974.0</td>\n",
       "      <td>Male</td>\n",
       "      <td>Yes</td>\n",
       "    </tr>\n",
       "  </tbody>\n",
       "</table>\n",
       "</div>"
      ],
      "text/plain": [
       "   duration_sec                start_time                  end_time  \\\n",
       "0         52185  2019-02-28 17:32:10.1450  2019-03-01 08:01:55.9750   \n",
       "1         42521  2019-02-28 18:53:21.7890  2019-03-01 06:42:03.0560   \n",
       "2         61854  2019-02-28 12:13:13.2180  2019-03-01 05:24:08.1460   \n",
       "3         36490  2019-02-28 17:54:26.0100  2019-03-01 04:02:36.8420   \n",
       "4          1585  2019-02-28 23:54:18.5490  2019-03-01 00:20:44.0740   \n",
       "\n",
       "   start_station_id                                start_station_name  \\\n",
       "0              21.0  Montgomery St BART Station (Market St at 2nd St)   \n",
       "1              23.0                     The Embarcadero at Steuart St   \n",
       "2              86.0                           Market St at Dolores St   \n",
       "3             375.0                           Grove St at Masonic Ave   \n",
       "4               7.0                               Frank H Ogawa Plaza   \n",
       "\n",
       "   start_station_latitude  start_station_longitude  end_station_id  \\\n",
       "0               37.789625              -122.400811            13.0   \n",
       "1               37.791464              -122.391034            81.0   \n",
       "2               37.769305              -122.426826             3.0   \n",
       "3               37.774836              -122.446546            70.0   \n",
       "4               37.804562              -122.271738           222.0   \n",
       "\n",
       "                               end_station_name  end_station_latitude  \\\n",
       "0                Commercial St at Montgomery St             37.794231   \n",
       "1                            Berry St at 4th St             37.775880   \n",
       "2  Powell St BART Station (Market St at 4th St)             37.786375   \n",
       "3                        Central Ave at Fell St             37.773311   \n",
       "4                         10th Ave at E 15th St             37.792714   \n",
       "\n",
       "   end_station_longitude  bike_id   user_type  member_birth_year  \\\n",
       "0            -122.402923     4902    Customer             1984.0   \n",
       "1            -122.393170     2535    Customer                NaN   \n",
       "2            -122.404904     5905    Customer             1972.0   \n",
       "3            -122.444293     6638  Subscriber             1989.0   \n",
       "4            -122.248780     4898  Subscriber             1974.0   \n",
       "\n",
       "  member_gender bike_share_for_all_trip  \n",
       "0          Male                      No  \n",
       "1           NaN                      No  \n",
       "2          Male                      No  \n",
       "3         Other                      No  \n",
       "4          Male                     Yes  "
      ]
     },
     "execution_count": 110,
     "metadata": {},
     "output_type": "execute_result"
    }
   ],
   "source": [
    "# Read Dataset and test\n",
    "df = pd.read_csv('201902-fordgobike-tripdata.csv')\n",
    "df.head()"
   ]
  },
  {
   "cell_type": "code",
   "execution_count": 111,
   "id": "fd93f34a",
   "metadata": {},
   "outputs": [
    {
     "data": {
      "text/plain": [
       "(183412, 16)"
      ]
     },
     "execution_count": 111,
     "metadata": {},
     "output_type": "execute_result"
    }
   ],
   "source": [
    "# dataset recognition\n",
    "df.shape"
   ]
  },
  {
   "cell_type": "code",
   "execution_count": 112,
   "id": "4e129cd5",
   "metadata": {},
   "outputs": [
    {
     "name": "stdout",
     "output_type": "stream",
     "text": [
      "<class 'pandas.core.frame.DataFrame'>\n",
      "RangeIndex: 183412 entries, 0 to 183411\n",
      "Data columns (total 16 columns):\n",
      " #   Column                   Non-Null Count   Dtype  \n",
      "---  ------                   --------------   -----  \n",
      " 0   duration_sec             183412 non-null  int64  \n",
      " 1   start_time               183412 non-null  object \n",
      " 2   end_time                 183412 non-null  object \n",
      " 3   start_station_id         183215 non-null  float64\n",
      " 4   start_station_name       183215 non-null  object \n",
      " 5   start_station_latitude   183412 non-null  float64\n",
      " 6   start_station_longitude  183412 non-null  float64\n",
      " 7   end_station_id           183215 non-null  float64\n",
      " 8   end_station_name         183215 non-null  object \n",
      " 9   end_station_latitude     183412 non-null  float64\n",
      " 10  end_station_longitude    183412 non-null  float64\n",
      " 11  bike_id                  183412 non-null  int64  \n",
      " 12  user_type                183412 non-null  object \n",
      " 13  member_birth_year        175147 non-null  float64\n",
      " 14  member_gender            175147 non-null  object \n",
      " 15  bike_share_for_all_trip  183412 non-null  object \n",
      "dtypes: float64(7), int64(2), object(7)\n",
      "memory usage: 22.4+ MB\n"
     ]
    }
   ],
   "source": [
    "# dataset recognition\n",
    "df.info()"
   ]
  },
  {
   "cell_type": "code",
   "execution_count": 113,
   "id": "fefbc4a3",
   "metadata": {},
   "outputs": [
    {
     "data": {
      "text/plain": [
       "duration_sec                  0\n",
       "start_time                    0\n",
       "end_time                      0\n",
       "start_station_id            197\n",
       "start_station_name          197\n",
       "start_station_latitude        0\n",
       "start_station_longitude       0\n",
       "end_station_id              197\n",
       "end_station_name            197\n",
       "end_station_latitude          0\n",
       "end_station_longitude         0\n",
       "bike_id                       0\n",
       "user_type                     0\n",
       "member_birth_year          8265\n",
       "member_gender              8265\n",
       "bike_share_for_all_trip       0\n",
       "dtype: int64"
      ]
     },
     "execution_count": 113,
     "metadata": {},
     "output_type": "execute_result"
    }
   ],
   "source": [
    "# dataset recognition\n",
    "df.isnull().sum()"
   ]
  },
  {
   "cell_type": "code",
   "execution_count": 114,
   "id": "16ff62a5",
   "metadata": {},
   "outputs": [
    {
     "data": {
      "text/plain": [
       "0"
      ]
     },
     "execution_count": 114,
     "metadata": {},
     "output_type": "execute_result"
    }
   ],
   "source": [
    "# dataset recognition\n",
    "df.duplicated().sum()"
   ]
  },
  {
   "cell_type": "code",
   "execution_count": 115,
   "id": "0ffb5a5d",
   "metadata": {},
   "outputs": [
    {
     "data": {
      "text/html": [
       "<div>\n",
       "<style scoped>\n",
       "    .dataframe tbody tr th:only-of-type {\n",
       "        vertical-align: middle;\n",
       "    }\n",
       "\n",
       "    .dataframe tbody tr th {\n",
       "        vertical-align: top;\n",
       "    }\n",
       "\n",
       "    .dataframe thead th {\n",
       "        text-align: right;\n",
       "    }\n",
       "</style>\n",
       "<table border=\"1\" class=\"dataframe\">\n",
       "  <thead>\n",
       "    <tr style=\"text-align: right;\">\n",
       "      <th></th>\n",
       "      <th>duration_sec</th>\n",
       "      <th>start_station_id</th>\n",
       "      <th>start_station_latitude</th>\n",
       "      <th>start_station_longitude</th>\n",
       "      <th>end_station_id</th>\n",
       "      <th>end_station_latitude</th>\n",
       "      <th>end_station_longitude</th>\n",
       "      <th>bike_id</th>\n",
       "      <th>member_birth_year</th>\n",
       "    </tr>\n",
       "  </thead>\n",
       "  <tbody>\n",
       "    <tr>\n",
       "      <th>count</th>\n",
       "      <td>183412.000000</td>\n",
       "      <td>183215.000000</td>\n",
       "      <td>183412.000000</td>\n",
       "      <td>183412.000000</td>\n",
       "      <td>183215.000000</td>\n",
       "      <td>183412.000000</td>\n",
       "      <td>183412.000000</td>\n",
       "      <td>183412.000000</td>\n",
       "      <td>175147.000000</td>\n",
       "    </tr>\n",
       "    <tr>\n",
       "      <th>mean</th>\n",
       "      <td>726.078435</td>\n",
       "      <td>138.590427</td>\n",
       "      <td>37.771223</td>\n",
       "      <td>-122.352664</td>\n",
       "      <td>136.249123</td>\n",
       "      <td>37.771427</td>\n",
       "      <td>-122.352250</td>\n",
       "      <td>4472.906375</td>\n",
       "      <td>1984.806437</td>\n",
       "    </tr>\n",
       "    <tr>\n",
       "      <th>std</th>\n",
       "      <td>1794.389780</td>\n",
       "      <td>111.778864</td>\n",
       "      <td>0.099581</td>\n",
       "      <td>0.117097</td>\n",
       "      <td>111.515131</td>\n",
       "      <td>0.099490</td>\n",
       "      <td>0.116673</td>\n",
       "      <td>1664.383394</td>\n",
       "      <td>10.116689</td>\n",
       "    </tr>\n",
       "    <tr>\n",
       "      <th>min</th>\n",
       "      <td>61.000000</td>\n",
       "      <td>3.000000</td>\n",
       "      <td>37.317298</td>\n",
       "      <td>-122.453704</td>\n",
       "      <td>3.000000</td>\n",
       "      <td>37.317298</td>\n",
       "      <td>-122.453704</td>\n",
       "      <td>11.000000</td>\n",
       "      <td>1878.000000</td>\n",
       "    </tr>\n",
       "    <tr>\n",
       "      <th>25%</th>\n",
       "      <td>325.000000</td>\n",
       "      <td>47.000000</td>\n",
       "      <td>37.770083</td>\n",
       "      <td>-122.412408</td>\n",
       "      <td>44.000000</td>\n",
       "      <td>37.770407</td>\n",
       "      <td>-122.411726</td>\n",
       "      <td>3777.000000</td>\n",
       "      <td>1980.000000</td>\n",
       "    </tr>\n",
       "    <tr>\n",
       "      <th>50%</th>\n",
       "      <td>514.000000</td>\n",
       "      <td>104.000000</td>\n",
       "      <td>37.780760</td>\n",
       "      <td>-122.398285</td>\n",
       "      <td>100.000000</td>\n",
       "      <td>37.781010</td>\n",
       "      <td>-122.398279</td>\n",
       "      <td>4958.000000</td>\n",
       "      <td>1987.000000</td>\n",
       "    </tr>\n",
       "    <tr>\n",
       "      <th>75%</th>\n",
       "      <td>796.000000</td>\n",
       "      <td>239.000000</td>\n",
       "      <td>37.797280</td>\n",
       "      <td>-122.286533</td>\n",
       "      <td>235.000000</td>\n",
       "      <td>37.797320</td>\n",
       "      <td>-122.288045</td>\n",
       "      <td>5502.000000</td>\n",
       "      <td>1992.000000</td>\n",
       "    </tr>\n",
       "    <tr>\n",
       "      <th>max</th>\n",
       "      <td>85444.000000</td>\n",
       "      <td>398.000000</td>\n",
       "      <td>37.880222</td>\n",
       "      <td>-121.874119</td>\n",
       "      <td>398.000000</td>\n",
       "      <td>37.880222</td>\n",
       "      <td>-121.874119</td>\n",
       "      <td>6645.000000</td>\n",
       "      <td>2001.000000</td>\n",
       "    </tr>\n",
       "  </tbody>\n",
       "</table>\n",
       "</div>"
      ],
      "text/plain": [
       "        duration_sec  start_station_id  start_station_latitude  \\\n",
       "count  183412.000000     183215.000000           183412.000000   \n",
       "mean      726.078435        138.590427               37.771223   \n",
       "std      1794.389780        111.778864                0.099581   \n",
       "min        61.000000          3.000000               37.317298   \n",
       "25%       325.000000         47.000000               37.770083   \n",
       "50%       514.000000        104.000000               37.780760   \n",
       "75%       796.000000        239.000000               37.797280   \n",
       "max     85444.000000        398.000000               37.880222   \n",
       "\n",
       "       start_station_longitude  end_station_id  end_station_latitude  \\\n",
       "count            183412.000000   183215.000000         183412.000000   \n",
       "mean               -122.352664      136.249123             37.771427   \n",
       "std                   0.117097      111.515131              0.099490   \n",
       "min                -122.453704        3.000000             37.317298   \n",
       "25%                -122.412408       44.000000             37.770407   \n",
       "50%                -122.398285      100.000000             37.781010   \n",
       "75%                -122.286533      235.000000             37.797320   \n",
       "max                -121.874119      398.000000             37.880222   \n",
       "\n",
       "       end_station_longitude        bike_id  member_birth_year  \n",
       "count          183412.000000  183412.000000      175147.000000  \n",
       "mean             -122.352250    4472.906375        1984.806437  \n",
       "std                 0.116673    1664.383394          10.116689  \n",
       "min              -122.453704      11.000000        1878.000000  \n",
       "25%              -122.411726    3777.000000        1980.000000  \n",
       "50%              -122.398279    4958.000000        1987.000000  \n",
       "75%              -122.288045    5502.000000        1992.000000  \n",
       "max              -121.874119    6645.000000        2001.000000  "
      ]
     },
     "execution_count": 115,
     "metadata": {},
     "output_type": "execute_result"
    }
   ],
   "source": [
    "# dataset recognition\n",
    "df.describe()"
   ]
  },
  {
   "cell_type": "code",
   "execution_count": 116,
   "id": "200f368d",
   "metadata": {},
   "outputs": [
    {
     "data": {
      "text/plain": [
       "duration_sec               18\n",
       "start_time                 18\n",
       "end_time                   18\n",
       "start_station_id           18\n",
       "start_station_name         18\n",
       "start_station_latitude     18\n",
       "start_station_longitude    18\n",
       "end_station_id             18\n",
       "end_station_name           18\n",
       "end_station_latitude       18\n",
       "end_station_longitude      18\n",
       "bike_id                    18\n",
       "user_type                  18\n",
       "member_birth_year          18\n",
       "member_gender              18\n",
       "bike_share_for_all_trip    18\n",
       "dtype: int64"
      ]
     },
     "execution_count": 116,
     "metadata": {},
     "output_type": "execute_result"
    }
   ],
   "source": [
    "# dataset recognition\n",
    "df[df.duration_sec==61].count()"
   ]
  },
  {
   "cell_type": "code",
   "execution_count": 117,
   "id": "4e1c7877",
   "metadata": {},
   "outputs": [
    {
     "data": {
      "text/plain": [
       "duration_sec               1\n",
       "start_time                 1\n",
       "end_time                   1\n",
       "start_station_id           1\n",
       "start_station_name         1\n",
       "start_station_latitude     1\n",
       "start_station_longitude    1\n",
       "end_station_id             1\n",
       "end_station_name           1\n",
       "end_station_latitude       1\n",
       "end_station_longitude      1\n",
       "bike_id                    1\n",
       "user_type                  1\n",
       "member_birth_year          0\n",
       "member_gender              0\n",
       "bike_share_for_all_trip    1\n",
       "dtype: int64"
      ]
     },
     "execution_count": 117,
     "metadata": {},
     "output_type": "execute_result"
    }
   ],
   "source": [
    "# dataset recognition\n",
    "df[df.duration_sec==85444].count()"
   ]
  },
  {
   "cell_type": "code",
   "execution_count": 118,
   "id": "a7a792d5",
   "metadata": {},
   "outputs": [
    {
     "data": {
      "text/html": [
       "<div>\n",
       "<style scoped>\n",
       "    .dataframe tbody tr th:only-of-type {\n",
       "        vertical-align: middle;\n",
       "    }\n",
       "\n",
       "    .dataframe tbody tr th {\n",
       "        vertical-align: top;\n",
       "    }\n",
       "\n",
       "    .dataframe thead th {\n",
       "        text-align: right;\n",
       "    }\n",
       "</style>\n",
       "<table border=\"1\" class=\"dataframe\">\n",
       "  <thead>\n",
       "    <tr style=\"text-align: right;\">\n",
       "      <th></th>\n",
       "      <th>duration_sec</th>\n",
       "      <th>start_time</th>\n",
       "      <th>end_time</th>\n",
       "      <th>start_station_id</th>\n",
       "      <th>start_station_name</th>\n",
       "      <th>start_station_latitude</th>\n",
       "      <th>start_station_longitude</th>\n",
       "      <th>end_station_id</th>\n",
       "      <th>end_station_name</th>\n",
       "      <th>end_station_latitude</th>\n",
       "      <th>end_station_longitude</th>\n",
       "      <th>bike_id</th>\n",
       "      <th>user_type</th>\n",
       "      <th>member_birth_year</th>\n",
       "      <th>member_gender</th>\n",
       "      <th>bike_share_for_all_trip</th>\n",
       "    </tr>\n",
       "  </thead>\n",
       "  <tbody>\n",
       "    <tr>\n",
       "      <th>101361</th>\n",
       "      <td>85444</td>\n",
       "      <td>2019-02-13 17:59:55.1240</td>\n",
       "      <td>2019-02-14 17:43:59.9540</td>\n",
       "      <td>5.0</td>\n",
       "      <td>Powell St BART Station (Market St at 5th St)</td>\n",
       "      <td>37.783899</td>\n",
       "      <td>-122.408445</td>\n",
       "      <td>98.0</td>\n",
       "      <td>Valencia St at 16th St</td>\n",
       "      <td>37.765052</td>\n",
       "      <td>-122.421866</td>\n",
       "      <td>6168</td>\n",
       "      <td>Subscriber</td>\n",
       "      <td>NaN</td>\n",
       "      <td>NaN</td>\n",
       "      <td>No</td>\n",
       "    </tr>\n",
       "    <tr>\n",
       "      <th>85465</th>\n",
       "      <td>84548</td>\n",
       "      <td>2019-02-16 15:48:25.0290</td>\n",
       "      <td>2019-02-17 15:17:33.0800</td>\n",
       "      <td>3.0</td>\n",
       "      <td>Powell St BART Station (Market St at 4th St)</td>\n",
       "      <td>37.786375</td>\n",
       "      <td>-122.404904</td>\n",
       "      <td>368.0</td>\n",
       "      <td>Myrtle St at Polk St</td>\n",
       "      <td>37.785434</td>\n",
       "      <td>-122.419622</td>\n",
       "      <td>6301</td>\n",
       "      <td>Subscriber</td>\n",
       "      <td>1981.0</td>\n",
       "      <td>Male</td>\n",
       "      <td>No</td>\n",
       "    </tr>\n",
       "    <tr>\n",
       "      <th>153705</th>\n",
       "      <td>83772</td>\n",
       "      <td>2019-02-05 12:44:54.2860</td>\n",
       "      <td>2019-02-06 12:01:06.6310</td>\n",
       "      <td>78.0</td>\n",
       "      <td>Folsom St at 9th St</td>\n",
       "      <td>37.773717</td>\n",
       "      <td>-122.411647</td>\n",
       "      <td>345.0</td>\n",
       "      <td>Hubbell St at 16th St</td>\n",
       "      <td>37.766483</td>\n",
       "      <td>-122.398279</td>\n",
       "      <td>3405</td>\n",
       "      <td>Customer</td>\n",
       "      <td>NaN</td>\n",
       "      <td>NaN</td>\n",
       "      <td>No</td>\n",
       "    </tr>\n",
       "    <tr>\n",
       "      <th>127999</th>\n",
       "      <td>83519</td>\n",
       "      <td>2019-02-09 15:16:17.5370</td>\n",
       "      <td>2019-02-10 14:28:17.2700</td>\n",
       "      <td>72.0</td>\n",
       "      <td>Page St at Scott St</td>\n",
       "      <td>37.772406</td>\n",
       "      <td>-122.435650</td>\n",
       "      <td>43.0</td>\n",
       "      <td>San Francisco Public Library (Grove St at Hyde...</td>\n",
       "      <td>37.778768</td>\n",
       "      <td>-122.415929</td>\n",
       "      <td>5561</td>\n",
       "      <td>Customer</td>\n",
       "      <td>1990.0</td>\n",
       "      <td>Male</td>\n",
       "      <td>No</td>\n",
       "    </tr>\n",
       "    <tr>\n",
       "      <th>112435</th>\n",
       "      <td>83407</td>\n",
       "      <td>2019-02-11 16:25:33.0690</td>\n",
       "      <td>2019-02-12 15:35:40.9560</td>\n",
       "      <td>77.0</td>\n",
       "      <td>11th St at Natoma St</td>\n",
       "      <td>37.773507</td>\n",
       "      <td>-122.416040</td>\n",
       "      <td>344.0</td>\n",
       "      <td>16th St Depot</td>\n",
       "      <td>37.766349</td>\n",
       "      <td>-122.396292</td>\n",
       "      <td>1842</td>\n",
       "      <td>Customer</td>\n",
       "      <td>1988.0</td>\n",
       "      <td>Male</td>\n",
       "      <td>No</td>\n",
       "    </tr>\n",
       "    <tr>\n",
       "      <th>5203</th>\n",
       "      <td>83195</td>\n",
       "      <td>2019-02-27 14:47:23.1810</td>\n",
       "      <td>2019-02-28 13:53:58.4330</td>\n",
       "      <td>243.0</td>\n",
       "      <td>Bancroft Way at College Ave</td>\n",
       "      <td>37.869360</td>\n",
       "      <td>-122.254337</td>\n",
       "      <td>248.0</td>\n",
       "      <td>Telegraph Ave at Ashby Ave</td>\n",
       "      <td>37.855956</td>\n",
       "      <td>-122.259795</td>\n",
       "      <td>5781</td>\n",
       "      <td>Subscriber</td>\n",
       "      <td>1962.0</td>\n",
       "      <td>Female</td>\n",
       "      <td>Yes</td>\n",
       "    </tr>\n",
       "    <tr>\n",
       "      <th>95750</th>\n",
       "      <td>82512</td>\n",
       "      <td>2019-02-14 13:56:21.7280</td>\n",
       "      <td>2019-02-15 12:51:34.3150</td>\n",
       "      <td>368.0</td>\n",
       "      <td>Myrtle St at Polk St</td>\n",
       "      <td>37.785434</td>\n",
       "      <td>-122.419622</td>\n",
       "      <td>44.0</td>\n",
       "      <td>Civic Center/UN Plaza BART Station (Market St ...</td>\n",
       "      <td>37.781074</td>\n",
       "      <td>-122.411738</td>\n",
       "      <td>6152</td>\n",
       "      <td>Customer</td>\n",
       "      <td>1998.0</td>\n",
       "      <td>Other</td>\n",
       "      <td>No</td>\n",
       "    </tr>\n",
       "    <tr>\n",
       "      <th>173365</th>\n",
       "      <td>82385</td>\n",
       "      <td>2019-02-02 13:07:43.0360</td>\n",
       "      <td>2019-02-03 12:00:48.1750</td>\n",
       "      <td>377.0</td>\n",
       "      <td>Fell St at Stanyan St</td>\n",
       "      <td>37.771917</td>\n",
       "      <td>-122.453704</td>\n",
       "      <td>377.0</td>\n",
       "      <td>Fell St at Stanyan St</td>\n",
       "      <td>37.771917</td>\n",
       "      <td>-122.453704</td>\n",
       "      <td>2933</td>\n",
       "      <td>Customer</td>\n",
       "      <td>NaN</td>\n",
       "      <td>NaN</td>\n",
       "      <td>No</td>\n",
       "    </tr>\n",
       "    <tr>\n",
       "      <th>8631</th>\n",
       "      <td>81549</td>\n",
       "      <td>2019-02-27 09:41:38.5520</td>\n",
       "      <td>2019-02-28 08:20:48.3860</td>\n",
       "      <td>138.0</td>\n",
       "      <td>Jersey St at Church St</td>\n",
       "      <td>37.750900</td>\n",
       "      <td>-122.427411</td>\n",
       "      <td>140.0</td>\n",
       "      <td>Cesar Chavez St at Dolores St</td>\n",
       "      <td>37.747858</td>\n",
       "      <td>-122.424986</td>\n",
       "      <td>2266</td>\n",
       "      <td>Subscriber</td>\n",
       "      <td>1963.0</td>\n",
       "      <td>Female</td>\n",
       "      <td>No</td>\n",
       "    </tr>\n",
       "    <tr>\n",
       "      <th>176987</th>\n",
       "      <td>80891</td>\n",
       "      <td>2019-02-01 11:05:18.9760</td>\n",
       "      <td>2019-02-02 09:33:30.1690</td>\n",
       "      <td>44.0</td>\n",
       "      <td>Civic Center/UN Plaza BART Station (Market St ...</td>\n",
       "      <td>37.781074</td>\n",
       "      <td>-122.411738</td>\n",
       "      <td>55.0</td>\n",
       "      <td>Webster St at Grove St</td>\n",
       "      <td>37.777053</td>\n",
       "      <td>-122.429558</td>\n",
       "      <td>3133</td>\n",
       "      <td>Customer</td>\n",
       "      <td>NaN</td>\n",
       "      <td>NaN</td>\n",
       "      <td>No</td>\n",
       "    </tr>\n",
       "  </tbody>\n",
       "</table>\n",
       "</div>"
      ],
      "text/plain": [
       "        duration_sec                start_time                  end_time  \\\n",
       "101361         85444  2019-02-13 17:59:55.1240  2019-02-14 17:43:59.9540   \n",
       "85465          84548  2019-02-16 15:48:25.0290  2019-02-17 15:17:33.0800   \n",
       "153705         83772  2019-02-05 12:44:54.2860  2019-02-06 12:01:06.6310   \n",
       "127999         83519  2019-02-09 15:16:17.5370  2019-02-10 14:28:17.2700   \n",
       "112435         83407  2019-02-11 16:25:33.0690  2019-02-12 15:35:40.9560   \n",
       "5203           83195  2019-02-27 14:47:23.1810  2019-02-28 13:53:58.4330   \n",
       "95750          82512  2019-02-14 13:56:21.7280  2019-02-15 12:51:34.3150   \n",
       "173365         82385  2019-02-02 13:07:43.0360  2019-02-03 12:00:48.1750   \n",
       "8631           81549  2019-02-27 09:41:38.5520  2019-02-28 08:20:48.3860   \n",
       "176987         80891  2019-02-01 11:05:18.9760  2019-02-02 09:33:30.1690   \n",
       "\n",
       "        start_station_id                                 start_station_name  \\\n",
       "101361               5.0       Powell St BART Station (Market St at 5th St)   \n",
       "85465                3.0       Powell St BART Station (Market St at 4th St)   \n",
       "153705              78.0                                Folsom St at 9th St   \n",
       "127999              72.0                                Page St at Scott St   \n",
       "112435              77.0                               11th St at Natoma St   \n",
       "5203               243.0                        Bancroft Way at College Ave   \n",
       "95750              368.0                               Myrtle St at Polk St   \n",
       "173365             377.0                              Fell St at Stanyan St   \n",
       "8631               138.0                             Jersey St at Church St   \n",
       "176987              44.0  Civic Center/UN Plaza BART Station (Market St ...   \n",
       "\n",
       "        start_station_latitude  start_station_longitude  end_station_id  \\\n",
       "101361               37.783899              -122.408445            98.0   \n",
       "85465                37.786375              -122.404904           368.0   \n",
       "153705               37.773717              -122.411647           345.0   \n",
       "127999               37.772406              -122.435650            43.0   \n",
       "112435               37.773507              -122.416040           344.0   \n",
       "5203                 37.869360              -122.254337           248.0   \n",
       "95750                37.785434              -122.419622            44.0   \n",
       "173365               37.771917              -122.453704           377.0   \n",
       "8631                 37.750900              -122.427411           140.0   \n",
       "176987               37.781074              -122.411738            55.0   \n",
       "\n",
       "                                         end_station_name  \\\n",
       "101361                             Valencia St at 16th St   \n",
       "85465                                Myrtle St at Polk St   \n",
       "153705                              Hubbell St at 16th St   \n",
       "127999  San Francisco Public Library (Grove St at Hyde...   \n",
       "112435                                      16th St Depot   \n",
       "5203                           Telegraph Ave at Ashby Ave   \n",
       "95750   Civic Center/UN Plaza BART Station (Market St ...   \n",
       "173365                              Fell St at Stanyan St   \n",
       "8631                        Cesar Chavez St at Dolores St   \n",
       "176987                             Webster St at Grove St   \n",
       "\n",
       "        end_station_latitude  end_station_longitude  bike_id   user_type  \\\n",
       "101361             37.765052            -122.421866     6168  Subscriber   \n",
       "85465              37.785434            -122.419622     6301  Subscriber   \n",
       "153705             37.766483            -122.398279     3405    Customer   \n",
       "127999             37.778768            -122.415929     5561    Customer   \n",
       "112435             37.766349            -122.396292     1842    Customer   \n",
       "5203               37.855956            -122.259795     5781  Subscriber   \n",
       "95750              37.781074            -122.411738     6152    Customer   \n",
       "173365             37.771917            -122.453704     2933    Customer   \n",
       "8631               37.747858            -122.424986     2266  Subscriber   \n",
       "176987             37.777053            -122.429558     3133    Customer   \n",
       "\n",
       "        member_birth_year member_gender bike_share_for_all_trip  \n",
       "101361                NaN           NaN                      No  \n",
       "85465              1981.0          Male                      No  \n",
       "153705                NaN           NaN                      No  \n",
       "127999             1990.0          Male                      No  \n",
       "112435             1988.0          Male                      No  \n",
       "5203               1962.0        Female                     Yes  \n",
       "95750              1998.0         Other                      No  \n",
       "173365                NaN           NaN                      No  \n",
       "8631               1963.0        Female                      No  \n",
       "176987                NaN           NaN                      No  "
      ]
     },
     "execution_count": 118,
     "metadata": {},
     "output_type": "execute_result"
    }
   ],
   "source": [
    "# dataset recognition\n",
    "df.nlargest(10,['duration_sec'])"
   ]
  },
  {
   "cell_type": "code",
   "execution_count": 119,
   "id": "ebc95b5b",
   "metadata": {},
   "outputs": [
    {
     "data": {
      "text/html": [
       "<div>\n",
       "<style scoped>\n",
       "    .dataframe tbody tr th:only-of-type {\n",
       "        vertical-align: middle;\n",
       "    }\n",
       "\n",
       "    .dataframe tbody tr th {\n",
       "        vertical-align: top;\n",
       "    }\n",
       "\n",
       "    .dataframe thead th {\n",
       "        text-align: right;\n",
       "    }\n",
       "</style>\n",
       "<table border=\"1\" class=\"dataframe\">\n",
       "  <thead>\n",
       "    <tr style=\"text-align: right;\">\n",
       "      <th></th>\n",
       "      <th>duration_sec</th>\n",
       "      <th>start_time</th>\n",
       "      <th>end_time</th>\n",
       "      <th>start_station_id</th>\n",
       "      <th>start_station_name</th>\n",
       "      <th>start_station_latitude</th>\n",
       "      <th>start_station_longitude</th>\n",
       "      <th>end_station_id</th>\n",
       "      <th>end_station_name</th>\n",
       "      <th>end_station_latitude</th>\n",
       "      <th>end_station_longitude</th>\n",
       "      <th>bike_id</th>\n",
       "      <th>user_type</th>\n",
       "      <th>member_birth_year</th>\n",
       "      <th>member_gender</th>\n",
       "      <th>bike_share_for_all_trip</th>\n",
       "    </tr>\n",
       "  </thead>\n",
       "  <tbody>\n",
       "    <tr>\n",
       "      <th>18578</th>\n",
       "      <td>61</td>\n",
       "      <td>2019-02-26 18:23:44.2830</td>\n",
       "      <td>2019-02-26 18:24:45.5230</td>\n",
       "      <td>368.0</td>\n",
       "      <td>Myrtle St at Polk St</td>\n",
       "      <td>37.785434</td>\n",
       "      <td>-122.419622</td>\n",
       "      <td>368.0</td>\n",
       "      <td>Myrtle St at Polk St</td>\n",
       "      <td>37.785434</td>\n",
       "      <td>-122.419622</td>\n",
       "      <td>5333</td>\n",
       "      <td>Subscriber</td>\n",
       "      <td>1989.0</td>\n",
       "      <td>Female</td>\n",
       "      <td>No</td>\n",
       "    </tr>\n",
       "    <tr>\n",
       "      <th>19581</th>\n",
       "      <td>61</td>\n",
       "      <td>2019-02-26 16:40:53.1210</td>\n",
       "      <td>2019-02-26 16:41:54.4510</td>\n",
       "      <td>43.0</td>\n",
       "      <td>San Francisco Public Library (Grove St at Hyde...</td>\n",
       "      <td>37.778768</td>\n",
       "      <td>-122.415929</td>\n",
       "      <td>43.0</td>\n",
       "      <td>San Francisco Public Library (Grove St at Hyde...</td>\n",
       "      <td>37.778768</td>\n",
       "      <td>-122.415929</td>\n",
       "      <td>5306</td>\n",
       "      <td>Subscriber</td>\n",
       "      <td>1987.0</td>\n",
       "      <td>Female</td>\n",
       "      <td>No</td>\n",
       "    </tr>\n",
       "    <tr>\n",
       "      <th>27017</th>\n",
       "      <td>61</td>\n",
       "      <td>2019-02-25 10:31:18.4150</td>\n",
       "      <td>2019-02-25 10:32:19.7480</td>\n",
       "      <td>59.0</td>\n",
       "      <td>S Van Ness Ave at Market St</td>\n",
       "      <td>37.774814</td>\n",
       "      <td>-122.418954</td>\n",
       "      <td>59.0</td>\n",
       "      <td>S Van Ness Ave at Market St</td>\n",
       "      <td>37.774814</td>\n",
       "      <td>-122.418954</td>\n",
       "      <td>5921</td>\n",
       "      <td>Subscriber</td>\n",
       "      <td>1972.0</td>\n",
       "      <td>Male</td>\n",
       "      <td>Yes</td>\n",
       "    </tr>\n",
       "    <tr>\n",
       "      <th>44301</th>\n",
       "      <td>61</td>\n",
       "      <td>2019-02-22 15:09:57.0480</td>\n",
       "      <td>2019-02-22 15:10:58.7420</td>\n",
       "      <td>310.0</td>\n",
       "      <td>San Fernando St at 4th St</td>\n",
       "      <td>37.335885</td>\n",
       "      <td>-121.885660</td>\n",
       "      <td>280.0</td>\n",
       "      <td>San Fernando St at 7th St</td>\n",
       "      <td>37.337122</td>\n",
       "      <td>-121.883215</td>\n",
       "      <td>6347</td>\n",
       "      <td>Subscriber</td>\n",
       "      <td>1989.0</td>\n",
       "      <td>Male</td>\n",
       "      <td>Yes</td>\n",
       "    </tr>\n",
       "    <tr>\n",
       "      <th>44787</th>\n",
       "      <td>61</td>\n",
       "      <td>2019-02-22 13:56:21.9760</td>\n",
       "      <td>2019-02-22 13:57:23.4650</td>\n",
       "      <td>30.0</td>\n",
       "      <td>San Francisco Caltrain (Townsend St at 4th St)</td>\n",
       "      <td>37.776598</td>\n",
       "      <td>-122.395282</td>\n",
       "      <td>81.0</td>\n",
       "      <td>Berry St at 4th St</td>\n",
       "      <td>37.775880</td>\n",
       "      <td>-122.393170</td>\n",
       "      <td>6150</td>\n",
       "      <td>Subscriber</td>\n",
       "      <td>1931.0</td>\n",
       "      <td>Male</td>\n",
       "      <td>No</td>\n",
       "    </tr>\n",
       "    <tr>\n",
       "      <th>51120</th>\n",
       "      <td>61</td>\n",
       "      <td>2019-02-21 18:27:34.9930</td>\n",
       "      <td>2019-02-21 18:28:36.6300</td>\n",
       "      <td>113.0</td>\n",
       "      <td>Franklin Square</td>\n",
       "      <td>37.764555</td>\n",
       "      <td>-122.410345</td>\n",
       "      <td>100.0</td>\n",
       "      <td>Bryant St at 15th St</td>\n",
       "      <td>37.767100</td>\n",
       "      <td>-122.410662</td>\n",
       "      <td>6515</td>\n",
       "      <td>Subscriber</td>\n",
       "      <td>1984.0</td>\n",
       "      <td>Male</td>\n",
       "      <td>No</td>\n",
       "    </tr>\n",
       "    <tr>\n",
       "      <th>58992</th>\n",
       "      <td>61</td>\n",
       "      <td>2019-02-20 21:44:00.1540</td>\n",
       "      <td>2019-02-20 21:45:01.2350</td>\n",
       "      <td>85.0</td>\n",
       "      <td>Church St at Duboce Ave</td>\n",
       "      <td>37.770083</td>\n",
       "      <td>-122.429156</td>\n",
       "      <td>85.0</td>\n",
       "      <td>Church St at Duboce Ave</td>\n",
       "      <td>37.770083</td>\n",
       "      <td>-122.429156</td>\n",
       "      <td>4351</td>\n",
       "      <td>Subscriber</td>\n",
       "      <td>1994.0</td>\n",
       "      <td>Male</td>\n",
       "      <td>No</td>\n",
       "    </tr>\n",
       "    <tr>\n",
       "      <th>64088</th>\n",
       "      <td>61</td>\n",
       "      <td>2019-02-20 13:08:18.2850</td>\n",
       "      <td>2019-02-20 13:09:19.4330</td>\n",
       "      <td>67.0</td>\n",
       "      <td>San Francisco Caltrain Station 2  (Townsend St...</td>\n",
       "      <td>37.776639</td>\n",
       "      <td>-122.395526</td>\n",
       "      <td>80.0</td>\n",
       "      <td>Townsend St at 5th St</td>\n",
       "      <td>37.775235</td>\n",
       "      <td>-122.397437</td>\n",
       "      <td>2090</td>\n",
       "      <td>Subscriber</td>\n",
       "      <td>1931.0</td>\n",
       "      <td>Male</td>\n",
       "      <td>No</td>\n",
       "    </tr>\n",
       "    <tr>\n",
       "      <th>80047</th>\n",
       "      <td>61</td>\n",
       "      <td>2019-02-18 16:31:12.8960</td>\n",
       "      <td>2019-02-18 16:32:14.5880</td>\n",
       "      <td>89.0</td>\n",
       "      <td>Division St at Potrero Ave</td>\n",
       "      <td>37.769218</td>\n",
       "      <td>-122.407646</td>\n",
       "      <td>101.0</td>\n",
       "      <td>15th St at Potrero Ave</td>\n",
       "      <td>37.767079</td>\n",
       "      <td>-122.407359</td>\n",
       "      <td>6195</td>\n",
       "      <td>Subscriber</td>\n",
       "      <td>1931.0</td>\n",
       "      <td>Male</td>\n",
       "      <td>No</td>\n",
       "    </tr>\n",
       "    <tr>\n",
       "      <th>82564</th>\n",
       "      <td>61</td>\n",
       "      <td>2019-02-18 09:53:31.3990</td>\n",
       "      <td>2019-02-18 09:54:33.1620</td>\n",
       "      <td>249.0</td>\n",
       "      <td>Russell St at College Ave</td>\n",
       "      <td>37.858473</td>\n",
       "      <td>-122.253253</td>\n",
       "      <td>249.0</td>\n",
       "      <td>Russell St at College Ave</td>\n",
       "      <td>37.858473</td>\n",
       "      <td>-122.253253</td>\n",
       "      <td>3054</td>\n",
       "      <td>Subscriber</td>\n",
       "      <td>1990.0</td>\n",
       "      <td>Male</td>\n",
       "      <td>No</td>\n",
       "    </tr>\n",
       "    <tr>\n",
       "      <th>85488</th>\n",
       "      <td>61</td>\n",
       "      <td>2019-02-17 15:12:01.6440</td>\n",
       "      <td>2019-02-17 15:13:03.1630</td>\n",
       "      <td>7.0</td>\n",
       "      <td>Frank H Ogawa Plaza</td>\n",
       "      <td>37.804562</td>\n",
       "      <td>-122.271738</td>\n",
       "      <td>7.0</td>\n",
       "      <td>Frank H Ogawa Plaza</td>\n",
       "      <td>37.804562</td>\n",
       "      <td>-122.271738</td>\n",
       "      <td>4787</td>\n",
       "      <td>Subscriber</td>\n",
       "      <td>1986.0</td>\n",
       "      <td>Female</td>\n",
       "      <td>No</td>\n",
       "    </tr>\n",
       "    <tr>\n",
       "      <th>103565</th>\n",
       "      <td>61</td>\n",
       "      <td>2019-02-14 12:26:46.0820</td>\n",
       "      <td>2019-02-14 12:27:47.6010</td>\n",
       "      <td>280.0</td>\n",
       "      <td>San Fernando St at 7th St</td>\n",
       "      <td>37.337122</td>\n",
       "      <td>-121.883215</td>\n",
       "      <td>279.0</td>\n",
       "      <td>Santa Clara St at 7th St</td>\n",
       "      <td>37.339146</td>\n",
       "      <td>-121.884105</td>\n",
       "      <td>3890</td>\n",
       "      <td>Subscriber</td>\n",
       "      <td>1999.0</td>\n",
       "      <td>Male</td>\n",
       "      <td>Yes</td>\n",
       "    </tr>\n",
       "    <tr>\n",
       "      <th>121470</th>\n",
       "      <td>61</td>\n",
       "      <td>2019-02-11 15:15:32.2440</td>\n",
       "      <td>2019-02-11 15:16:33.7810</td>\n",
       "      <td>345.0</td>\n",
       "      <td>Hubbell St at 16th St</td>\n",
       "      <td>37.766483</td>\n",
       "      <td>-122.398279</td>\n",
       "      <td>102.0</td>\n",
       "      <td>Irwin St at 8th St</td>\n",
       "      <td>37.766883</td>\n",
       "      <td>-122.399579</td>\n",
       "      <td>1697</td>\n",
       "      <td>Subscriber</td>\n",
       "      <td>1994.0</td>\n",
       "      <td>Female</td>\n",
       "      <td>No</td>\n",
       "    </tr>\n",
       "    <tr>\n",
       "      <th>134955</th>\n",
       "      <td>61</td>\n",
       "      <td>2019-02-08 16:25:31.2390</td>\n",
       "      <td>2019-02-08 16:26:32.7350</td>\n",
       "      <td>42.0</td>\n",
       "      <td>San Francisco City Hall (Polk St at Grove St)</td>\n",
       "      <td>37.778650</td>\n",
       "      <td>-122.418230</td>\n",
       "      <td>43.0</td>\n",
       "      <td>San Francisco Public Library (Grove St at Hyde...</td>\n",
       "      <td>37.778768</td>\n",
       "      <td>-122.415929</td>\n",
       "      <td>5570</td>\n",
       "      <td>Subscriber</td>\n",
       "      <td>1976.0</td>\n",
       "      <td>Male</td>\n",
       "      <td>No</td>\n",
       "    </tr>\n",
       "    <tr>\n",
       "      <th>154115</th>\n",
       "      <td>61</td>\n",
       "      <td>2019-02-06 10:36:44.0880</td>\n",
       "      <td>2019-02-06 10:37:46.0510</td>\n",
       "      <td>17.0</td>\n",
       "      <td>Embarcadero BART Station (Beale St at Market St)</td>\n",
       "      <td>37.792251</td>\n",
       "      <td>-122.397086</td>\n",
       "      <td>20.0</td>\n",
       "      <td>Mechanics Monument Plaza (Market St at Bush St)</td>\n",
       "      <td>37.791300</td>\n",
       "      <td>-122.399051</td>\n",
       "      <td>3716</td>\n",
       "      <td>Subscriber</td>\n",
       "      <td>1974.0</td>\n",
       "      <td>Male</td>\n",
       "      <td>No</td>\n",
       "    </tr>\n",
       "    <tr>\n",
       "      <th>157305</th>\n",
       "      <td>61</td>\n",
       "      <td>2019-02-05 23:05:20.0990</td>\n",
       "      <td>2019-02-05 23:06:21.5550</td>\n",
       "      <td>134.0</td>\n",
       "      <td>Valencia St at 24th St</td>\n",
       "      <td>37.752428</td>\n",
       "      <td>-122.420628</td>\n",
       "      <td>133.0</td>\n",
       "      <td>Valencia St at 22nd St</td>\n",
       "      <td>37.755213</td>\n",
       "      <td>-122.420975</td>\n",
       "      <td>4911</td>\n",
       "      <td>Subscriber</td>\n",
       "      <td>1995.0</td>\n",
       "      <td>Male</td>\n",
       "      <td>No</td>\n",
       "    </tr>\n",
       "    <tr>\n",
       "      <th>169882</th>\n",
       "      <td>61</td>\n",
       "      <td>2019-02-04 09:02:26.6670</td>\n",
       "      <td>2019-02-04 09:03:28.5180</td>\n",
       "      <td>30.0</td>\n",
       "      <td>San Francisco Caltrain (Townsend St at 4th St)</td>\n",
       "      <td>37.776598</td>\n",
       "      <td>-122.395282</td>\n",
       "      <td>30.0</td>\n",
       "      <td>San Francisco Caltrain (Townsend St at 4th St)</td>\n",
       "      <td>37.776598</td>\n",
       "      <td>-122.395282</td>\n",
       "      <td>5463</td>\n",
       "      <td>Subscriber</td>\n",
       "      <td>1994.0</td>\n",
       "      <td>Male</td>\n",
       "      <td>No</td>\n",
       "    </tr>\n",
       "    <tr>\n",
       "      <th>179646</th>\n",
       "      <td>61</td>\n",
       "      <td>2019-02-01 13:17:45.2220</td>\n",
       "      <td>2019-02-01 13:18:46.6470</td>\n",
       "      <td>243.0</td>\n",
       "      <td>Bancroft Way at College Ave</td>\n",
       "      <td>37.869360</td>\n",
       "      <td>-122.254337</td>\n",
       "      <td>239.0</td>\n",
       "      <td>Bancroft Way at Telegraph Ave</td>\n",
       "      <td>37.868813</td>\n",
       "      <td>-122.258764</td>\n",
       "      <td>5102</td>\n",
       "      <td>Subscriber</td>\n",
       "      <td>1989.0</td>\n",
       "      <td>Male</td>\n",
       "      <td>Yes</td>\n",
       "    </tr>\n",
       "    <tr>\n",
       "      <th>9221</th>\n",
       "      <td>62</td>\n",
       "      <td>2019-02-28 07:42:53.6580</td>\n",
       "      <td>2019-02-28 07:43:56.3740</td>\n",
       "      <td>120.0</td>\n",
       "      <td>Mission Dolores Park</td>\n",
       "      <td>37.761420</td>\n",
       "      <td>-122.426435</td>\n",
       "      <td>120.0</td>\n",
       "      <td>Mission Dolores Park</td>\n",
       "      <td>37.761420</td>\n",
       "      <td>-122.426435</td>\n",
       "      <td>2001</td>\n",
       "      <td>Subscriber</td>\n",
       "      <td>1994.0</td>\n",
       "      <td>Male</td>\n",
       "      <td>No</td>\n",
       "    </tr>\n",
       "    <tr>\n",
       "      <th>33156</th>\n",
       "      <td>62</td>\n",
       "      <td>2019-02-24 12:46:52.9660</td>\n",
       "      <td>2019-02-24 12:47:55.9200</td>\n",
       "      <td>284.0</td>\n",
       "      <td>Yerba Buena Center for the Arts (Howard St at ...</td>\n",
       "      <td>37.784872</td>\n",
       "      <td>-122.400876</td>\n",
       "      <td>284.0</td>\n",
       "      <td>Yerba Buena Center for the Arts (Howard St at ...</td>\n",
       "      <td>37.784872</td>\n",
       "      <td>-122.400876</td>\n",
       "      <td>6282</td>\n",
       "      <td>Subscriber</td>\n",
       "      <td>1988.0</td>\n",
       "      <td>Male</td>\n",
       "      <td>No</td>\n",
       "    </tr>\n",
       "  </tbody>\n",
       "</table>\n",
       "</div>"
      ],
      "text/plain": [
       "        duration_sec                start_time                  end_time  \\\n",
       "18578             61  2019-02-26 18:23:44.2830  2019-02-26 18:24:45.5230   \n",
       "19581             61  2019-02-26 16:40:53.1210  2019-02-26 16:41:54.4510   \n",
       "27017             61  2019-02-25 10:31:18.4150  2019-02-25 10:32:19.7480   \n",
       "44301             61  2019-02-22 15:09:57.0480  2019-02-22 15:10:58.7420   \n",
       "44787             61  2019-02-22 13:56:21.9760  2019-02-22 13:57:23.4650   \n",
       "51120             61  2019-02-21 18:27:34.9930  2019-02-21 18:28:36.6300   \n",
       "58992             61  2019-02-20 21:44:00.1540  2019-02-20 21:45:01.2350   \n",
       "64088             61  2019-02-20 13:08:18.2850  2019-02-20 13:09:19.4330   \n",
       "80047             61  2019-02-18 16:31:12.8960  2019-02-18 16:32:14.5880   \n",
       "82564             61  2019-02-18 09:53:31.3990  2019-02-18 09:54:33.1620   \n",
       "85488             61  2019-02-17 15:12:01.6440  2019-02-17 15:13:03.1630   \n",
       "103565            61  2019-02-14 12:26:46.0820  2019-02-14 12:27:47.6010   \n",
       "121470            61  2019-02-11 15:15:32.2440  2019-02-11 15:16:33.7810   \n",
       "134955            61  2019-02-08 16:25:31.2390  2019-02-08 16:26:32.7350   \n",
       "154115            61  2019-02-06 10:36:44.0880  2019-02-06 10:37:46.0510   \n",
       "157305            61  2019-02-05 23:05:20.0990  2019-02-05 23:06:21.5550   \n",
       "169882            61  2019-02-04 09:02:26.6670  2019-02-04 09:03:28.5180   \n",
       "179646            61  2019-02-01 13:17:45.2220  2019-02-01 13:18:46.6470   \n",
       "9221              62  2019-02-28 07:42:53.6580  2019-02-28 07:43:56.3740   \n",
       "33156             62  2019-02-24 12:46:52.9660  2019-02-24 12:47:55.9200   \n",
       "\n",
       "        start_station_id                                 start_station_name  \\\n",
       "18578              368.0                               Myrtle St at Polk St   \n",
       "19581               43.0  San Francisco Public Library (Grove St at Hyde...   \n",
       "27017               59.0                        S Van Ness Ave at Market St   \n",
       "44301              310.0                          San Fernando St at 4th St   \n",
       "44787               30.0     San Francisco Caltrain (Townsend St at 4th St)   \n",
       "51120              113.0                                    Franklin Square   \n",
       "58992               85.0                            Church St at Duboce Ave   \n",
       "64088               67.0  San Francisco Caltrain Station 2  (Townsend St...   \n",
       "80047               89.0                         Division St at Potrero Ave   \n",
       "82564              249.0                          Russell St at College Ave   \n",
       "85488                7.0                                Frank H Ogawa Plaza   \n",
       "103565             280.0                          San Fernando St at 7th St   \n",
       "121470             345.0                              Hubbell St at 16th St   \n",
       "134955              42.0      San Francisco City Hall (Polk St at Grove St)   \n",
       "154115              17.0   Embarcadero BART Station (Beale St at Market St)   \n",
       "157305             134.0                             Valencia St at 24th St   \n",
       "169882              30.0     San Francisco Caltrain (Townsend St at 4th St)   \n",
       "179646             243.0                        Bancroft Way at College Ave   \n",
       "9221               120.0                               Mission Dolores Park   \n",
       "33156              284.0  Yerba Buena Center for the Arts (Howard St at ...   \n",
       "\n",
       "        start_station_latitude  start_station_longitude  end_station_id  \\\n",
       "18578                37.785434              -122.419622           368.0   \n",
       "19581                37.778768              -122.415929            43.0   \n",
       "27017                37.774814              -122.418954            59.0   \n",
       "44301                37.335885              -121.885660           280.0   \n",
       "44787                37.776598              -122.395282            81.0   \n",
       "51120                37.764555              -122.410345           100.0   \n",
       "58992                37.770083              -122.429156            85.0   \n",
       "64088                37.776639              -122.395526            80.0   \n",
       "80047                37.769218              -122.407646           101.0   \n",
       "82564                37.858473              -122.253253           249.0   \n",
       "85488                37.804562              -122.271738             7.0   \n",
       "103565               37.337122              -121.883215           279.0   \n",
       "121470               37.766483              -122.398279           102.0   \n",
       "134955               37.778650              -122.418230            43.0   \n",
       "154115               37.792251              -122.397086            20.0   \n",
       "157305               37.752428              -122.420628           133.0   \n",
       "169882               37.776598              -122.395282            30.0   \n",
       "179646               37.869360              -122.254337           239.0   \n",
       "9221                 37.761420              -122.426435           120.0   \n",
       "33156                37.784872              -122.400876           284.0   \n",
       "\n",
       "                                         end_station_name  \\\n",
       "18578                                Myrtle St at Polk St   \n",
       "19581   San Francisco Public Library (Grove St at Hyde...   \n",
       "27017                         S Van Ness Ave at Market St   \n",
       "44301                           San Fernando St at 7th St   \n",
       "44787                                  Berry St at 4th St   \n",
       "51120                                Bryant St at 15th St   \n",
       "58992                             Church St at Duboce Ave   \n",
       "64088                               Townsend St at 5th St   \n",
       "80047                              15th St at Potrero Ave   \n",
       "82564                           Russell St at College Ave   \n",
       "85488                                 Frank H Ogawa Plaza   \n",
       "103565                           Santa Clara St at 7th St   \n",
       "121470                                 Irwin St at 8th St   \n",
       "134955  San Francisco Public Library (Grove St at Hyde...   \n",
       "154115    Mechanics Monument Plaza (Market St at Bush St)   \n",
       "157305                             Valencia St at 22nd St   \n",
       "169882     San Francisco Caltrain (Townsend St at 4th St)   \n",
       "179646                      Bancroft Way at Telegraph Ave   \n",
       "9221                                 Mission Dolores Park   \n",
       "33156   Yerba Buena Center for the Arts (Howard St at ...   \n",
       "\n",
       "        end_station_latitude  end_station_longitude  bike_id   user_type  \\\n",
       "18578              37.785434            -122.419622     5333  Subscriber   \n",
       "19581              37.778768            -122.415929     5306  Subscriber   \n",
       "27017              37.774814            -122.418954     5921  Subscriber   \n",
       "44301              37.337122            -121.883215     6347  Subscriber   \n",
       "44787              37.775880            -122.393170     6150  Subscriber   \n",
       "51120              37.767100            -122.410662     6515  Subscriber   \n",
       "58992              37.770083            -122.429156     4351  Subscriber   \n",
       "64088              37.775235            -122.397437     2090  Subscriber   \n",
       "80047              37.767079            -122.407359     6195  Subscriber   \n",
       "82564              37.858473            -122.253253     3054  Subscriber   \n",
       "85488              37.804562            -122.271738     4787  Subscriber   \n",
       "103565             37.339146            -121.884105     3890  Subscriber   \n",
       "121470             37.766883            -122.399579     1697  Subscriber   \n",
       "134955             37.778768            -122.415929     5570  Subscriber   \n",
       "154115             37.791300            -122.399051     3716  Subscriber   \n",
       "157305             37.755213            -122.420975     4911  Subscriber   \n",
       "169882             37.776598            -122.395282     5463  Subscriber   \n",
       "179646             37.868813            -122.258764     5102  Subscriber   \n",
       "9221               37.761420            -122.426435     2001  Subscriber   \n",
       "33156              37.784872            -122.400876     6282  Subscriber   \n",
       "\n",
       "        member_birth_year member_gender bike_share_for_all_trip  \n",
       "18578              1989.0        Female                      No  \n",
       "19581              1987.0        Female                      No  \n",
       "27017              1972.0          Male                     Yes  \n",
       "44301              1989.0          Male                     Yes  \n",
       "44787              1931.0          Male                      No  \n",
       "51120              1984.0          Male                      No  \n",
       "58992              1994.0          Male                      No  \n",
       "64088              1931.0          Male                      No  \n",
       "80047              1931.0          Male                      No  \n",
       "82564              1990.0          Male                      No  \n",
       "85488              1986.0        Female                      No  \n",
       "103565             1999.0          Male                     Yes  \n",
       "121470             1994.0        Female                      No  \n",
       "134955             1976.0          Male                      No  \n",
       "154115             1974.0          Male                      No  \n",
       "157305             1995.0          Male                      No  \n",
       "169882             1994.0          Male                      No  \n",
       "179646             1989.0          Male                     Yes  \n",
       "9221               1994.0          Male                      No  \n",
       "33156              1988.0          Male                      No  "
      ]
     },
     "execution_count": 119,
     "metadata": {},
     "output_type": "execute_result"
    }
   ],
   "source": [
    "# dataset recognition\n",
    "df.nsmallest(20,['duration_sec'])"
   ]
  },
  {
   "cell_type": "code",
   "execution_count": 120,
   "id": "f82bc2c6",
   "metadata": {},
   "outputs": [
    {
     "data": {
      "text/plain": [
       "Subscriber    163544\n",
       "Customer       19868\n",
       "Name: user_type, dtype: int64"
      ]
     },
     "execution_count": 120,
     "metadata": {},
     "output_type": "execute_result"
    }
   ],
   "source": [
    "# dataset recognition\n",
    "df.user_type.value_counts()"
   ]
  },
  {
   "cell_type": "code",
   "execution_count": 121,
   "id": "1f45040f",
   "metadata": {},
   "outputs": [
    {
     "data": {
      "text/plain": [
       "Male      130651\n",
       "Female     40844\n",
       "Other       3652\n",
       "Name: member_gender, dtype: int64"
      ]
     },
     "execution_count": 121,
     "metadata": {},
     "output_type": "execute_result"
    }
   ],
   "source": [
    "# dataset recognition\n",
    "df.member_gender.value_counts()"
   ]
  },
  {
   "cell_type": "code",
   "execution_count": 122,
   "id": "8a4b5dd0",
   "metadata": {},
   "outputs": [
    {
     "data": {
      "text/plain": [
       "No     166053\n",
       "Yes     17359\n",
       "Name: bike_share_for_all_trip, dtype: int64"
      ]
     },
     "execution_count": 122,
     "metadata": {},
     "output_type": "execute_result"
    }
   ],
   "source": [
    "# dataset recognition\n",
    "df.bike_share_for_all_trip.value_counts()"
   ]
  },
  {
   "cell_type": "code",
   "execution_count": 123,
   "id": "e0665f96",
   "metadata": {},
   "outputs": [
    {
     "data": {
      "text/plain": [
       "Market St at 10th St                                         3904\n",
       "San Francisco Caltrain Station 2  (Townsend St at 4th St)    3544\n",
       "Berry St at 4th St                                           3052\n",
       "Montgomery St BART Station (Market St at 2nd St)             2895\n",
       "Powell St BART Station (Market St at 4th St)                 2760\n",
       "                                                             ... \n",
       "Willow St at Vine St                                            9\n",
       "Parker Ave at McAllister St                                     7\n",
       "21st Ave at International Blvd                                  4\n",
       "Palm St at Willow St                                            4\n",
       "16th St Depot                                                   2\n",
       "Name: start_station_name, Length: 329, dtype: int64"
      ]
     },
     "execution_count": 123,
     "metadata": {},
     "output_type": "execute_result"
    }
   ],
   "source": [
    "df.start_station_name.value_counts()"
   ]
  },
  {
   "cell_type": "code",
   "execution_count": 124,
   "id": "49d85b89",
   "metadata": {},
   "outputs": [
    {
     "data": {
      "text/plain": [
       "San Francisco Caltrain Station 2  (Townsend St at 4th St)    4857\n",
       "Market St at 10th St                                         3973\n",
       "Montgomery St BART Station (Market St at 2nd St)             3647\n",
       "San Francisco Ferry Building (Harry Bridges Plaza)           3368\n",
       "Powell St BART Station (Market St at 4th St)                 2997\n",
       "                                                             ... \n",
       "Parker Ave at McAllister St                                     9\n",
       "Palm St at Willow St                                            7\n",
       "21st Ave at International Blvd                                  6\n",
       "16th St Depot                                                   6\n",
       "Willow St at Vine St                                            5\n",
       "Name: end_station_name, Length: 329, dtype: int64"
      ]
     },
     "execution_count": 124,
     "metadata": {},
     "output_type": "execute_result"
    }
   ],
   "source": [
    "df.end_station_name.value_counts()"
   ]
  },
  {
   "cell_type": "markdown",
   "id": "92e7e410",
   "metadata": {},
   "source": [
    "### The dataset is not clear\n",
    "1. Missing Data as Columns (member_birth_year, member_gender, start_station_id, start_station_name, end_station_id, end_station_name)\n",
    "2. The Data Type need to modify as Columns (start_time, end_time )\n",
    "\n",
    "### I will add some additional modifications to data set\n",
    "1. Add new column for trip duration in minute 'duration_minute'\n",
    "2. Add new column for trip duration in minute 'duration_hour'\n",
    "3. Add new colum for start date in yyyy-mm-dd format 'start_date'\n",
    "4. Add new colum for trip start hour of the day 'start_hourofday'\n",
    "5. Add new colum for day of week and month 'start_dayofweek'\n",
    "6. Add new colum for day of month 'start_month'\n",
    "7. Add a new column calculating riders' age 'member_age'\n",
    "\n",
    "### I will delete some Columns which is not used in my analysis\n",
    "1. start_station_latitude\n",
    "2. start_station_longitude \n",
    "3. end_station_latitude\n",
    "4. end_station_longitude "
   ]
  },
  {
   "cell_type": "markdown",
   "id": "9e5c6dd3",
   "metadata": {},
   "source": [
    "### Cleaning Data"
   ]
  },
  {
   "cell_type": "markdown",
   "id": "df5d4c77",
   "metadata": {},
   "source": [
    "#### 1. Missing Data"
   ]
  },
  {
   "cell_type": "code",
   "execution_count": 125,
   "id": "63450432",
   "metadata": {},
   "outputs": [
    {
     "name": "stdout",
     "output_type": "stream",
     "text": [
      "<class 'pandas.core.frame.DataFrame'>\n",
      "Int64Index: 175147 entries, 0 to 183411\n",
      "Data columns (total 16 columns):\n",
      " #   Column                   Non-Null Count   Dtype  \n",
      "---  ------                   --------------   -----  \n",
      " 0   duration_sec             175147 non-null  int64  \n",
      " 1   start_time               175147 non-null  object \n",
      " 2   end_time                 175147 non-null  object \n",
      " 3   start_station_id         174952 non-null  float64\n",
      " 4   start_station_name       174952 non-null  object \n",
      " 5   start_station_latitude   175147 non-null  float64\n",
      " 6   start_station_longitude  175147 non-null  float64\n",
      " 7   end_station_id           174952 non-null  float64\n",
      " 8   end_station_name         174952 non-null  object \n",
      " 9   end_station_latitude     175147 non-null  float64\n",
      " 10  end_station_longitude    175147 non-null  float64\n",
      " 11  bike_id                  175147 non-null  int64  \n",
      " 12  user_type                175147 non-null  object \n",
      " 13  member_birth_year        175147 non-null  float64\n",
      " 14  member_gender            175147 non-null  object \n",
      " 15  bike_share_for_all_trip  175147 non-null  object \n",
      "dtypes: float64(7), int64(2), object(7)\n",
      "memory usage: 22.7+ MB\n"
     ]
    }
   ],
   "source": [
    "# Remove rows that does not have member_gender\n",
    "df_cleaned = df[df['member_gender'].isnull() == False]\n",
    "df_cleaned.info()"
   ]
  },
  {
   "cell_type": "code",
   "execution_count": 126,
   "id": "072fce0b",
   "metadata": {},
   "outputs": [
    {
     "name": "stdout",
     "output_type": "stream",
     "text": [
      "<class 'pandas.core.frame.DataFrame'>\n",
      "Int64Index: 174952 entries, 0 to 183411\n",
      "Data columns (total 16 columns):\n",
      " #   Column                   Non-Null Count   Dtype  \n",
      "---  ------                   --------------   -----  \n",
      " 0   duration_sec             174952 non-null  int64  \n",
      " 1   start_time               174952 non-null  object \n",
      " 2   end_time                 174952 non-null  object \n",
      " 3   start_station_id         174952 non-null  float64\n",
      " 4   start_station_name       174952 non-null  object \n",
      " 5   start_station_latitude   174952 non-null  float64\n",
      " 6   start_station_longitude  174952 non-null  float64\n",
      " 7   end_station_id           174952 non-null  float64\n",
      " 8   end_station_name         174952 non-null  object \n",
      " 9   end_station_latitude     174952 non-null  float64\n",
      " 10  end_station_longitude    174952 non-null  float64\n",
      " 11  bike_id                  174952 non-null  int64  \n",
      " 12  user_type                174952 non-null  object \n",
      " 13  member_birth_year        174952 non-null  float64\n",
      " 14  member_gender            174952 non-null  object \n",
      " 15  bike_share_for_all_trip  174952 non-null  object \n",
      "dtypes: float64(7), int64(2), object(7)\n",
      "memory usage: 22.7+ MB\n"
     ]
    }
   ],
   "source": [
    "# Remove rows that does not have start_station_id\n",
    "df_cleaned = df_cleaned[df_cleaned['start_station_id'].isnull() == False]\n",
    "df_cleaned.info()"
   ]
  },
  {
   "cell_type": "code",
   "execution_count": 127,
   "id": "ab714450",
   "metadata": {},
   "outputs": [
    {
     "data": {
      "text/plain": [
       "duration_sec               0\n",
       "start_time                 0\n",
       "end_time                   0\n",
       "start_station_id           0\n",
       "start_station_name         0\n",
       "start_station_latitude     0\n",
       "start_station_longitude    0\n",
       "end_station_id             0\n",
       "end_station_name           0\n",
       "end_station_latitude       0\n",
       "end_station_longitude      0\n",
       "bike_id                    0\n",
       "user_type                  0\n",
       "member_birth_year          0\n",
       "member_gender              0\n",
       "bike_share_for_all_trip    0\n",
       "dtype: int64"
      ]
     },
     "execution_count": 127,
     "metadata": {},
     "output_type": "execute_result"
    }
   ],
   "source": [
    "df_cleaned.isnull().sum()"
   ]
  },
  {
   "cell_type": "markdown",
   "id": "dced4067",
   "metadata": {},
   "source": [
    "#### 2.The Data Type"
   ]
  },
  {
   "cell_type": "code",
   "execution_count": 128,
   "id": "aa2a0615",
   "metadata": {},
   "outputs": [
    {
     "name": "stdout",
     "output_type": "stream",
     "text": [
      "<class 'pandas.core.frame.DataFrame'>\n",
      "Int64Index: 174952 entries, 0 to 183411\n",
      "Data columns (total 16 columns):\n",
      " #   Column                   Non-Null Count   Dtype         \n",
      "---  ------                   --------------   -----         \n",
      " 0   duration_sec             174952 non-null  int64         \n",
      " 1   start_time               174952 non-null  datetime64[ns]\n",
      " 2   end_time                 174952 non-null  datetime64[ns]\n",
      " 3   start_station_id         174952 non-null  object        \n",
      " 4   start_station_name       174952 non-null  object        \n",
      " 5   start_station_latitude   174952 non-null  float64       \n",
      " 6   start_station_longitude  174952 non-null  float64       \n",
      " 7   end_station_id           174952 non-null  object        \n",
      " 8   end_station_name         174952 non-null  object        \n",
      " 9   end_station_latitude     174952 non-null  float64       \n",
      " 10  end_station_longitude    174952 non-null  float64       \n",
      " 11  bike_id                  174952 non-null  object        \n",
      " 12  user_type                174952 non-null  category      \n",
      " 13  member_birth_year        174952 non-null  float64       \n",
      " 14  member_gender            174952 non-null  category      \n",
      " 15  bike_share_for_all_trip  174952 non-null  object        \n",
      "dtypes: category(2), datetime64[ns](2), float64(5), int64(1), object(6)\n",
      "memory usage: 20.4+ MB\n"
     ]
    }
   ],
   "source": [
    "df_cleaned['start_time'] = pd.to_datetime(df_cleaned['start_time'])\n",
    "df_cleaned['end_time'] = pd.to_datetime(df_cleaned['end_time'])\n",
    "\n",
    "df_cleaned['start_station_id'] = df_cleaned['start_station_id'].astype('str')\n",
    "df_cleaned['end_station_id'] = df_cleaned['end_station_id'].astype('str')\n",
    "df_cleaned['bike_id'] = df_cleaned['bike_id'].astype('str')\n",
    "\n",
    "df_cleaned['user_type'] = df_cleaned['user_type'].astype('category')\n",
    "df_cleaned['member_gender'] = df_cleaned['member_gender'].astype('category')\n",
    "\n",
    "df_cleaned.info()"
   ]
  },
  {
   "cell_type": "markdown",
   "id": "8fbf8a5c",
   "metadata": {},
   "source": [
    "#### 3. Additional Columns "
   ]
  },
  {
   "cell_type": "code",
   "execution_count": 129,
   "id": "3f0d5f4b",
   "metadata": {},
   "outputs": [
    {
     "data": {
      "text/html": [
       "<div>\n",
       "<style scoped>\n",
       "    .dataframe tbody tr th:only-of-type {\n",
       "        vertical-align: middle;\n",
       "    }\n",
       "\n",
       "    .dataframe tbody tr th {\n",
       "        vertical-align: top;\n",
       "    }\n",
       "\n",
       "    .dataframe thead th {\n",
       "        text-align: right;\n",
       "    }\n",
       "</style>\n",
       "<table border=\"1\" class=\"dataframe\">\n",
       "  <thead>\n",
       "    <tr style=\"text-align: right;\">\n",
       "      <th></th>\n",
       "      <th>duration_sec</th>\n",
       "      <th>start_time</th>\n",
       "      <th>end_time</th>\n",
       "      <th>start_station_id</th>\n",
       "      <th>start_station_name</th>\n",
       "      <th>start_station_latitude</th>\n",
       "      <th>start_station_longitude</th>\n",
       "      <th>end_station_id</th>\n",
       "      <th>end_station_name</th>\n",
       "      <th>end_station_latitude</th>\n",
       "      <th>...</th>\n",
       "      <th>member_birth_year</th>\n",
       "      <th>member_gender</th>\n",
       "      <th>bike_share_for_all_trip</th>\n",
       "      <th>duration_minute</th>\n",
       "      <th>duration_hour</th>\n",
       "      <th>start_date</th>\n",
       "      <th>start_hourofday</th>\n",
       "      <th>start_dayofweek</th>\n",
       "      <th>start_month</th>\n",
       "      <th>member_age</th>\n",
       "    </tr>\n",
       "  </thead>\n",
       "  <tbody>\n",
       "    <tr>\n",
       "      <th>0</th>\n",
       "      <td>52185</td>\n",
       "      <td>2019-02-28 17:32:10.145</td>\n",
       "      <td>2019-03-01 08:01:55.975</td>\n",
       "      <td>21.0</td>\n",
       "      <td>Montgomery St BART Station (Market St at 2nd St)</td>\n",
       "      <td>37.789625</td>\n",
       "      <td>-122.400811</td>\n",
       "      <td>13.0</td>\n",
       "      <td>Commercial St at Montgomery St</td>\n",
       "      <td>37.794231</td>\n",
       "      <td>...</td>\n",
       "      <td>1984.0</td>\n",
       "      <td>Male</td>\n",
       "      <td>No</td>\n",
       "      <td>869.750000</td>\n",
       "      <td>14.495833</td>\n",
       "      <td>2019-02-28</td>\n",
       "      <td>17</td>\n",
       "      <td>Thursday</td>\n",
       "      <td>February</td>\n",
       "      <td>35.0</td>\n",
       "    </tr>\n",
       "    <tr>\n",
       "      <th>2</th>\n",
       "      <td>61854</td>\n",
       "      <td>2019-02-28 12:13:13.218</td>\n",
       "      <td>2019-03-01 05:24:08.146</td>\n",
       "      <td>86.0</td>\n",
       "      <td>Market St at Dolores St</td>\n",
       "      <td>37.769305</td>\n",
       "      <td>-122.426826</td>\n",
       "      <td>3.0</td>\n",
       "      <td>Powell St BART Station (Market St at 4th St)</td>\n",
       "      <td>37.786375</td>\n",
       "      <td>...</td>\n",
       "      <td>1972.0</td>\n",
       "      <td>Male</td>\n",
       "      <td>No</td>\n",
       "      <td>1030.900000</td>\n",
       "      <td>17.181667</td>\n",
       "      <td>2019-02-28</td>\n",
       "      <td>12</td>\n",
       "      <td>Thursday</td>\n",
       "      <td>February</td>\n",
       "      <td>47.0</td>\n",
       "    </tr>\n",
       "    <tr>\n",
       "      <th>3</th>\n",
       "      <td>36490</td>\n",
       "      <td>2019-02-28 17:54:26.010</td>\n",
       "      <td>2019-03-01 04:02:36.842</td>\n",
       "      <td>375.0</td>\n",
       "      <td>Grove St at Masonic Ave</td>\n",
       "      <td>37.774836</td>\n",
       "      <td>-122.446546</td>\n",
       "      <td>70.0</td>\n",
       "      <td>Central Ave at Fell St</td>\n",
       "      <td>37.773311</td>\n",
       "      <td>...</td>\n",
       "      <td>1989.0</td>\n",
       "      <td>Other</td>\n",
       "      <td>No</td>\n",
       "      <td>608.166667</td>\n",
       "      <td>10.136111</td>\n",
       "      <td>2019-02-28</td>\n",
       "      <td>17</td>\n",
       "      <td>Thursday</td>\n",
       "      <td>February</td>\n",
       "      <td>30.0</td>\n",
       "    </tr>\n",
       "    <tr>\n",
       "      <th>4</th>\n",
       "      <td>1585</td>\n",
       "      <td>2019-02-28 23:54:18.549</td>\n",
       "      <td>2019-03-01 00:20:44.074</td>\n",
       "      <td>7.0</td>\n",
       "      <td>Frank H Ogawa Plaza</td>\n",
       "      <td>37.804562</td>\n",
       "      <td>-122.271738</td>\n",
       "      <td>222.0</td>\n",
       "      <td>10th Ave at E 15th St</td>\n",
       "      <td>37.792714</td>\n",
       "      <td>...</td>\n",
       "      <td>1974.0</td>\n",
       "      <td>Male</td>\n",
       "      <td>Yes</td>\n",
       "      <td>26.416667</td>\n",
       "      <td>0.440278</td>\n",
       "      <td>2019-02-28</td>\n",
       "      <td>23</td>\n",
       "      <td>Thursday</td>\n",
       "      <td>February</td>\n",
       "      <td>45.0</td>\n",
       "    </tr>\n",
       "    <tr>\n",
       "      <th>5</th>\n",
       "      <td>1793</td>\n",
       "      <td>2019-02-28 23:49:58.632</td>\n",
       "      <td>2019-03-01 00:19:51.760</td>\n",
       "      <td>93.0</td>\n",
       "      <td>4th St at Mission Bay Blvd S</td>\n",
       "      <td>37.770407</td>\n",
       "      <td>-122.391198</td>\n",
       "      <td>323.0</td>\n",
       "      <td>Broadway at Kearny</td>\n",
       "      <td>37.798014</td>\n",
       "      <td>...</td>\n",
       "      <td>1959.0</td>\n",
       "      <td>Male</td>\n",
       "      <td>No</td>\n",
       "      <td>29.883333</td>\n",
       "      <td>0.498056</td>\n",
       "      <td>2019-02-28</td>\n",
       "      <td>23</td>\n",
       "      <td>Thursday</td>\n",
       "      <td>February</td>\n",
       "      <td>60.0</td>\n",
       "    </tr>\n",
       "  </tbody>\n",
       "</table>\n",
       "<p>5 rows × 23 columns</p>\n",
       "</div>"
      ],
      "text/plain": [
       "   duration_sec              start_time                end_time  \\\n",
       "0         52185 2019-02-28 17:32:10.145 2019-03-01 08:01:55.975   \n",
       "2         61854 2019-02-28 12:13:13.218 2019-03-01 05:24:08.146   \n",
       "3         36490 2019-02-28 17:54:26.010 2019-03-01 04:02:36.842   \n",
       "4          1585 2019-02-28 23:54:18.549 2019-03-01 00:20:44.074   \n",
       "5          1793 2019-02-28 23:49:58.632 2019-03-01 00:19:51.760   \n",
       "\n",
       "  start_station_id                                start_station_name  \\\n",
       "0             21.0  Montgomery St BART Station (Market St at 2nd St)   \n",
       "2             86.0                           Market St at Dolores St   \n",
       "3            375.0                           Grove St at Masonic Ave   \n",
       "4              7.0                               Frank H Ogawa Plaza   \n",
       "5             93.0                      4th St at Mission Bay Blvd S   \n",
       "\n",
       "   start_station_latitude  start_station_longitude end_station_id  \\\n",
       "0               37.789625              -122.400811           13.0   \n",
       "2               37.769305              -122.426826            3.0   \n",
       "3               37.774836              -122.446546           70.0   \n",
       "4               37.804562              -122.271738          222.0   \n",
       "5               37.770407              -122.391198          323.0   \n",
       "\n",
       "                               end_station_name  end_station_latitude  ...  \\\n",
       "0                Commercial St at Montgomery St             37.794231  ...   \n",
       "2  Powell St BART Station (Market St at 4th St)             37.786375  ...   \n",
       "3                        Central Ave at Fell St             37.773311  ...   \n",
       "4                         10th Ave at E 15th St             37.792714  ...   \n",
       "5                            Broadway at Kearny             37.798014  ...   \n",
       "\n",
       "   member_birth_year member_gender bike_share_for_all_trip  duration_minute  \\\n",
       "0             1984.0          Male                      No       869.750000   \n",
       "2             1972.0          Male                      No      1030.900000   \n",
       "3             1989.0         Other                      No       608.166667   \n",
       "4             1974.0          Male                     Yes        26.416667   \n",
       "5             1959.0          Male                      No        29.883333   \n",
       "\n",
       "  duration_hour  start_date  start_hourofday  start_dayofweek start_month  \\\n",
       "0     14.495833  2019-02-28               17         Thursday    February   \n",
       "2     17.181667  2019-02-28               12         Thursday    February   \n",
       "3     10.136111  2019-02-28               17         Thursday    February   \n",
       "4      0.440278  2019-02-28               23         Thursday    February   \n",
       "5      0.498056  2019-02-28               23         Thursday    February   \n",
       "\n",
       "  member_age  \n",
       "0       35.0  \n",
       "2       47.0  \n",
       "3       30.0  \n",
       "4       45.0  \n",
       "5       60.0  \n",
       "\n",
       "[5 rows x 23 columns]"
      ]
     },
     "execution_count": 129,
     "metadata": {},
     "output_type": "execute_result"
    }
   ],
   "source": [
    "df_cleaned['duration_minute'] = df_cleaned['duration_sec']/60\n",
    "df_cleaned['duration_hour'] = df_cleaned['duration_sec']/60/60\n",
    "df_cleaned['start_date'] = df_cleaned.start_time.dt.strftime('%Y-%m-%d')\n",
    "df_cleaned['start_hourofday'] = df_cleaned.start_time.dt.strftime('%H')\n",
    "df_cleaned['start_dayofweek'] = df_cleaned.start_time.dt.strftime('%A')\n",
    "df_cleaned['start_month'] = df_cleaned.start_time.dt.strftime('%B')\n",
    "df_cleaned['member_age'] = 2019 - df_cleaned['member_birth_year']\n",
    "\n",
    "df_cleaned.head()"
   ]
  },
  {
   "cell_type": "code",
   "execution_count": 130,
   "id": "bfbb9f50",
   "metadata": {},
   "outputs": [
    {
     "name": "stdout",
     "output_type": "stream",
     "text": [
      "<class 'pandas.core.frame.DataFrame'>\n",
      "Int64Index: 174952 entries, 0 to 183411\n",
      "Data columns (total 23 columns):\n",
      " #   Column                   Non-Null Count   Dtype         \n",
      "---  ------                   --------------   -----         \n",
      " 0   duration_sec             174952 non-null  int64         \n",
      " 1   start_time               174952 non-null  datetime64[ns]\n",
      " 2   end_time                 174952 non-null  datetime64[ns]\n",
      " 3   start_station_id         174952 non-null  object        \n",
      " 4   start_station_name       174952 non-null  object        \n",
      " 5   start_station_latitude   174952 non-null  float64       \n",
      " 6   start_station_longitude  174952 non-null  float64       \n",
      " 7   end_station_id           174952 non-null  object        \n",
      " 8   end_station_name         174952 non-null  object        \n",
      " 9   end_station_latitude     174952 non-null  float64       \n",
      " 10  end_station_longitude    174952 non-null  float64       \n",
      " 11  bike_id                  174952 non-null  object        \n",
      " 12  user_type                174952 non-null  category      \n",
      " 13  member_birth_year        174952 non-null  float64       \n",
      " 14  member_gender            174952 non-null  category      \n",
      " 15  bike_share_for_all_trip  174952 non-null  object        \n",
      " 16  duration_minute          174952 non-null  float64       \n",
      " 17  duration_hour            174952 non-null  float64       \n",
      " 18  start_date               174952 non-null  object        \n",
      " 19  start_hourofday          174952 non-null  object        \n",
      " 20  start_dayofweek          174952 non-null  object        \n",
      " 21  start_month              174952 non-null  object        \n",
      " 22  member_age               174952 non-null  float64       \n",
      "dtypes: category(2), datetime64[ns](2), float64(8), int64(1), object(10)\n",
      "memory usage: 29.7+ MB\n"
     ]
    }
   ],
   "source": [
    "df_cleaned.info()"
   ]
  },
  {
   "cell_type": "markdown",
   "id": "703bee97",
   "metadata": {},
   "source": [
    "#### 4. deleting some un-used columns"
   ]
  },
  {
   "cell_type": "code",
   "execution_count": 131,
   "id": "8da937a6",
   "metadata": {},
   "outputs": [
    {
     "name": "stdout",
     "output_type": "stream",
     "text": [
      "<class 'pandas.core.frame.DataFrame'>\n",
      "Int64Index: 174952 entries, 0 to 183411\n",
      "Data columns (total 19 columns):\n",
      " #   Column                   Non-Null Count   Dtype         \n",
      "---  ------                   --------------   -----         \n",
      " 0   duration_sec             174952 non-null  int64         \n",
      " 1   start_time               174952 non-null  datetime64[ns]\n",
      " 2   end_time                 174952 non-null  datetime64[ns]\n",
      " 3   start_station_id         174952 non-null  object        \n",
      " 4   start_station_name       174952 non-null  object        \n",
      " 5   end_station_id           174952 non-null  object        \n",
      " 6   end_station_name         174952 non-null  object        \n",
      " 7   bike_id                  174952 non-null  object        \n",
      " 8   user_type                174952 non-null  category      \n",
      " 9   member_birth_year        174952 non-null  float64       \n",
      " 10  member_gender            174952 non-null  category      \n",
      " 11  bike_share_for_all_trip  174952 non-null  object        \n",
      " 12  duration_minute          174952 non-null  float64       \n",
      " 13  duration_hour            174952 non-null  float64       \n",
      " 14  start_date               174952 non-null  object        \n",
      " 15  start_hourofday          174952 non-null  object        \n",
      " 16  start_dayofweek          174952 non-null  object        \n",
      " 17  start_month              174952 non-null  object        \n",
      " 18  member_age               174952 non-null  float64       \n",
      "dtypes: category(2), datetime64[ns](2), float64(4), int64(1), object(10)\n",
      "memory usage: 24.4+ MB\n"
     ]
    }
   ],
   "source": [
    "df_cleaned.drop(['start_station_latitude','start_station_longitude','end_station_latitude','end_station_longitude'], axis=1, inplace=True)\n",
    "df_cleaned.info()"
   ]
  },
  {
   "cell_type": "code",
   "execution_count": 132,
   "id": "e36a6979",
   "metadata": {},
   "outputs": [
    {
     "data": {
      "text/plain": [
       "31.0     10214\n",
       "26.0      9323\n",
       "30.0      8967\n",
       "29.0      8640\n",
       "28.0      8484\n",
       "         ...  \n",
       "91.0         1\n",
       "89.0         1\n",
       "109.0        1\n",
       "141.0        1\n",
       "92.0         1\n",
       "Name: member_age, Length: 75, dtype: int64"
      ]
     },
     "execution_count": 132,
     "metadata": {},
     "output_type": "execute_result"
    }
   ],
   "source": [
    "df_cleaned.member_age.value_counts()"
   ]
  },
  {
   "cell_type": "code",
   "execution_count": 133,
   "id": "2648e3eb",
   "metadata": {},
   "outputs": [
    {
     "data": {
      "text/plain": [
       "February    174952\n",
       "Name: start_month, dtype: int64"
      ]
     },
     "execution_count": 133,
     "metadata": {},
     "output_type": "execute_result"
    }
   ],
   "source": [
    "df_cleaned.start_month.value_counts()"
   ]
  },
  {
   "cell_type": "code",
   "execution_count": 134,
   "id": "9ecf8eab",
   "metadata": {},
   "outputs": [
    {
     "data": {
      "text/plain": [
       "Thursday     33712\n",
       "Tuesday      30584\n",
       "Wednesday    28426\n",
       "Friday       27663\n",
       "Monday       25641\n",
       "Sunday       14512\n",
       "Saturday     14414\n",
       "Name: start_dayofweek, dtype: int64"
      ]
     },
     "execution_count": 134,
     "metadata": {},
     "output_type": "execute_result"
    }
   ],
   "source": [
    "df_cleaned.start_dayofweek.value_counts()"
   ]
  },
  {
   "cell_type": "code",
   "execution_count": 135,
   "id": "6c5fec0b",
   "metadata": {},
   "outputs": [
    {
     "data": {
      "text/plain": [
       "17    20904\n",
       "08    20227\n",
       "18    16118\n",
       "09    15204\n",
       "16    13473\n",
       "07    10231\n",
       "19     9424\n",
       "15     8646\n",
       "12     8220\n",
       "13     8098\n",
       "10     7970\n",
       "14     7677\n",
       "11     7461\n",
       "20     6211\n",
       "21     4400\n",
       "06     3293\n",
       "22     2793\n",
       "23     1572\n",
       "00      893\n",
       "05      866\n",
       "01      525\n",
       "02      355\n",
       "04      227\n",
       "03      164\n",
       "Name: start_hourofday, dtype: int64"
      ]
     },
     "execution_count": 135,
     "metadata": {},
     "output_type": "execute_result"
    }
   ],
   "source": [
    "df_cleaned.start_hourofday.value_counts()"
   ]
  },
  {
   "cell_type": "code",
   "execution_count": 136,
   "id": "27d1ecf4",
   "metadata": {},
   "outputs": [
    {
     "data": {
      "text/plain": [
       "4.533333       308\n",
       "5.383333       285\n",
       "5.083333       282\n",
       "6.150000       280\n",
       "5.100000       276\n",
       "              ... \n",
       "1064.450000      1\n",
       "62.833333        1\n",
       "126.366667       1\n",
       "168.100000       1\n",
       "59.300000        1\n",
       "Name: duration_minute, Length: 4429, dtype: int64"
      ]
     },
     "execution_count": 136,
     "metadata": {},
     "output_type": "execute_result"
    }
   ],
   "source": [
    "df_cleaned.duration_minute.value_counts()"
   ]
  },
  {
   "cell_type": "code",
   "execution_count": 137,
   "id": "305a914a",
   "metadata": {},
   "outputs": [
    {
     "data": {
      "text/plain": [
       "0.075556     308\n",
       "0.089722     285\n",
       "0.084722     282\n",
       "0.102500     280\n",
       "0.085000     276\n",
       "            ... \n",
       "1.695833       1\n",
       "13.210833      1\n",
       "3.725556       1\n",
       "1.646667       1\n",
       "1.282222       1\n",
       "Name: duration_hour, Length: 4429, dtype: int64"
      ]
     },
     "execution_count": 137,
     "metadata": {},
     "output_type": "execute_result"
    }
   ],
   "source": [
    "df_cleaned.duration_hour.value_counts()"
   ]
  },
  {
   "cell_type": "code",
   "execution_count": 138,
   "id": "fb708737",
   "metadata": {},
   "outputs": [],
   "source": [
    "# Create function to help in plot\n",
    "\n",
    "def x_y_t(xaxis,yaxis,title):\n",
    "    plt.xlabel(xaxis)\n",
    "    plt.ylabel(yaxis)\n",
    "    plt.title(title)"
   ]
  },
  {
   "cell_type": "code",
   "execution_count": 139,
   "id": "c891378c",
   "metadata": {},
   "outputs": [
    {
     "data": {
      "image/png": "[encoded data removed]",
      "text/plain": [
       "<Figure size 576x432 with 1 Axes>"
      ]
     },
     "metadata": {
      "needs_background": "light"
     },
     "output_type": "display_data"
    }
   ],
   "source": [
    "# plot some charts to exploratory the data\n",
    "plt.figure(figsize=[8, 6])\n",
    "bins = np.arange(0, df_cleaned['duration_hour'].max()+5, 2)\n",
    "plt.hist(df_cleaned['duration_hour'], bins=bins);\n",
    "x_y_t('Duration in Hours','Number of Trips','Trip Duration Distribution');"
   ]
  },
  {
   "cell_type": "markdown",
   "id": "f72435b1",
   "metadata": {},
   "source": [
    "The most of Date From 0 to 5 so, I will filter out outlier duration from visually examination of the distribution above"
   ]
  },
  {
   "cell_type": "code",
   "execution_count": 140,
   "id": "457455d5",
   "metadata": {},
   "outputs": [
    {
     "name": "stdout",
     "output_type": "stream",
     "text": [
      "<class 'pandas.core.frame.DataFrame'>\n",
      "Int64Index: 174759 entries, 4 to 183411\n",
      "Data columns (total 19 columns):\n",
      " #   Column                   Non-Null Count   Dtype         \n",
      "---  ------                   --------------   -----         \n",
      " 0   duration_sec             174759 non-null  int64         \n",
      " 1   start_time               174759 non-null  datetime64[ns]\n",
      " 2   end_time                 174759 non-null  datetime64[ns]\n",
      " 3   start_station_id         174759 non-null  object        \n",
      " 4   start_station_name       174759 non-null  object        \n",
      " 5   end_station_id           174759 non-null  object        \n",
      " 6   end_station_name         174759 non-null  object        \n",
      " 7   bike_id                  174759 non-null  object        \n",
      " 8   user_type                174759 non-null  category      \n",
      " 9   member_birth_year        174759 non-null  float64       \n",
      " 10  member_gender            174759 non-null  category      \n",
      " 11  bike_share_for_all_trip  174759 non-null  object        \n",
      " 12  duration_minute          174759 non-null  float64       \n",
      " 13  duration_hour            174759 non-null  float64       \n",
      " 14  start_date               174759 non-null  object        \n",
      " 15  start_hourofday          174759 non-null  object        \n",
      " 16  start_dayofweek          174759 non-null  object        \n",
      " 17  start_month              174759 non-null  object        \n",
      " 18  member_age               174759 non-null  float64       \n",
      "dtypes: category(2), datetime64[ns](2), float64(4), int64(1), object(10)\n",
      "memory usage: 24.3+ MB\n"
     ]
    }
   ],
   "source": [
    "df_cleaned = df_cleaned.query('duration_hour <= 5')\n",
    "df_cleaned.info()"
   ]
  },
  {
   "cell_type": "code",
   "execution_count": 141,
   "id": "3c51ab8a",
   "metadata": {},
   "outputs": [
    {
     "data": {
      "image/png": "[encoded data removed]",
      "text/plain": [
       "<Figure size 576x432 with 1 Axes>"
      ]
     },
     "metadata": {
      "needs_background": "light"
     },
     "output_type": "display_data"
    }
   ],
   "source": [
    "# plot some charts to exploratory the data\n",
    "plt.figure(figsize=[8, 6])\n",
    "bins = np.arange(0, df_cleaned['duration_hour'].max()+5, 2)\n",
    "plt.hist(df_cleaned['duration_hour'], bins=bins);\n",
    "x_y_t('Duration in Hours','Number of Trips','Trip Duration Distribution');"
   ]
  },
  {
   "cell_type": "code",
   "execution_count": 142,
   "id": "6d165ae8",
   "metadata": {},
   "outputs": [
    {
     "data": {
      "image/png": "[encoded data removed]",
      "text/plain": [
       "<Figure size 576x432 with 1 Axes>"
      ]
     },
     "metadata": {
      "needs_background": "light"
     },
     "output_type": "display_data"
    }
   ],
   "source": [
    "# plot some charts to exploratory the data\n",
    "plt.figure(figsize=[8, 6])\n",
    "bins = np.arange(0, df_cleaned['member_age'].max()+5, 5)\n",
    "plt.hist(df_cleaned['member_age'], bins=bins);\n",
    "x_y_t('Member age','Number of Trips','Trips distribtion over member age');"
   ]
  },
  {
   "cell_type": "markdown",
   "id": "d79f35a2",
   "metadata": {},
   "source": [
    "The most of Date Till 80 year so, I will filter out outlier member_age from visually examination of the distribution above"
   ]
  },
  {
   "cell_type": "code",
   "execution_count": 143,
   "id": "78314552",
   "metadata": {},
   "outputs": [
    {
     "name": "stdout",
     "output_type": "stream",
     "text": [
      "<class 'pandas.core.frame.DataFrame'>\n",
      "Int64Index: 174567 entries, 4 to 183411\n",
      "Data columns (total 19 columns):\n",
      " #   Column                   Non-Null Count   Dtype         \n",
      "---  ------                   --------------   -----         \n",
      " 0   duration_sec             174567 non-null  int64         \n",
      " 1   start_time               174567 non-null  datetime64[ns]\n",
      " 2   end_time                 174567 non-null  datetime64[ns]\n",
      " 3   start_station_id         174567 non-null  object        \n",
      " 4   start_station_name       174567 non-null  object        \n",
      " 5   end_station_id           174567 non-null  object        \n",
      " 6   end_station_name         174567 non-null  object        \n",
      " 7   bike_id                  174567 non-null  object        \n",
      " 8   user_type                174567 non-null  category      \n",
      " 9   member_birth_year        174567 non-null  float64       \n",
      " 10  member_gender            174567 non-null  category      \n",
      " 11  bike_share_for_all_trip  174567 non-null  object        \n",
      " 12  duration_minute          174567 non-null  float64       \n",
      " 13  duration_hour            174567 non-null  float64       \n",
      " 14  start_date               174567 non-null  object        \n",
      " 15  start_hourofday          174567 non-null  object        \n",
      " 16  start_dayofweek          174567 non-null  object        \n",
      " 17  start_month              174567 non-null  object        \n",
      " 18  member_age               174567 non-null  float64       \n",
      "dtypes: category(2), datetime64[ns](2), float64(4), int64(1), object(10)\n",
      "memory usage: 24.3+ MB\n"
     ]
    }
   ],
   "source": [
    "df_cleaned = df_cleaned.query('member_age <= 80')\n",
    "df_cleaned.info()"
   ]
  },
  {
   "cell_type": "code",
   "execution_count": 144,
   "id": "ba07a015",
   "metadata": {},
   "outputs": [
    {
     "data": {
      "image/png": "[encoded data removed]",
      "text/plain": [
       "<Figure size 576x432 with 1 Axes>"
      ]
     },
     "metadata": {
      "needs_background": "light"
     },
     "output_type": "display_data"
    }
   ],
   "source": [
    "# plot some charts to exploratory the data\n",
    "plt.figure(figsize=[8, 6])\n",
    "bins = np.arange(0, df_cleaned['member_age'].max()+5, 5)\n",
    "plt.hist(df_cleaned['member_age'], bins=bins);\n",
    "x_y_t('Duration in Hours','Number of Trips','Trip Duration Distribution');"
   ]
  },
  {
   "cell_type": "code",
   "execution_count": 145,
   "id": "668d6aba",
   "metadata": {},
   "outputs": [],
   "source": [
    "# Save Cleaned dataset\n",
    "df_cleaned.to_csv('Cleaned.csv',index=False)"
   ]
  },
  {
   "cell_type": "code",
   "execution_count": 146,
   "id": "587e202b",
   "metadata": {},
   "outputs": [
    {
     "data": {
      "text/html": [
       "<div>\n",
       "<style scoped>\n",
       "    .dataframe tbody tr th:only-of-type {\n",
       "        vertical-align: middle;\n",
       "    }\n",
       "\n",
       "    .dataframe tbody tr th {\n",
       "        vertical-align: top;\n",
       "    }\n",
       "\n",
       "    .dataframe thead th {\n",
       "        text-align: right;\n",
       "    }\n",
       "</style>\n",
       "<table border=\"1\" class=\"dataframe\">\n",
       "  <thead>\n",
       "    <tr style=\"text-align: right;\">\n",
       "      <th></th>\n",
       "      <th>duration_sec</th>\n",
       "      <th>start_time</th>\n",
       "      <th>end_time</th>\n",
       "      <th>start_station_id</th>\n",
       "      <th>start_station_name</th>\n",
       "      <th>end_station_id</th>\n",
       "      <th>end_station_name</th>\n",
       "      <th>bike_id</th>\n",
       "      <th>user_type</th>\n",
       "      <th>member_birth_year</th>\n",
       "      <th>member_gender</th>\n",
       "      <th>bike_share_for_all_trip</th>\n",
       "      <th>duration_minute</th>\n",
       "      <th>duration_hour</th>\n",
       "      <th>start_date</th>\n",
       "      <th>start_hourofday</th>\n",
       "      <th>start_dayofweek</th>\n",
       "      <th>start_month</th>\n",
       "      <th>member_age</th>\n",
       "    </tr>\n",
       "  </thead>\n",
       "  <tbody>\n",
       "    <tr>\n",
       "      <th>0</th>\n",
       "      <td>1585</td>\n",
       "      <td>2019-02-28 23:54:18.549</td>\n",
       "      <td>2019-03-01 00:20:44.074</td>\n",
       "      <td>7.0</td>\n",
       "      <td>Frank H Ogawa Plaza</td>\n",
       "      <td>222.0</td>\n",
       "      <td>10th Ave at E 15th St</td>\n",
       "      <td>4898</td>\n",
       "      <td>Subscriber</td>\n",
       "      <td>1974.0</td>\n",
       "      <td>Male</td>\n",
       "      <td>Yes</td>\n",
       "      <td>26.416667</td>\n",
       "      <td>0.440278</td>\n",
       "      <td>2019-02-28</td>\n",
       "      <td>23</td>\n",
       "      <td>Thursday</td>\n",
       "      <td>February</td>\n",
       "      <td>45.0</td>\n",
       "    </tr>\n",
       "    <tr>\n",
       "      <th>1</th>\n",
       "      <td>1793</td>\n",
       "      <td>2019-02-28 23:49:58.632</td>\n",
       "      <td>2019-03-01 00:19:51.760</td>\n",
       "      <td>93.0</td>\n",
       "      <td>4th St at Mission Bay Blvd S</td>\n",
       "      <td>323.0</td>\n",
       "      <td>Broadway at Kearny</td>\n",
       "      <td>5200</td>\n",
       "      <td>Subscriber</td>\n",
       "      <td>1959.0</td>\n",
       "      <td>Male</td>\n",
       "      <td>No</td>\n",
       "      <td>29.883333</td>\n",
       "      <td>0.498056</td>\n",
       "      <td>2019-02-28</td>\n",
       "      <td>23</td>\n",
       "      <td>Thursday</td>\n",
       "      <td>February</td>\n",
       "      <td>60.0</td>\n",
       "    </tr>\n",
       "    <tr>\n",
       "      <th>2</th>\n",
       "      <td>1147</td>\n",
       "      <td>2019-02-28 23:55:35.104</td>\n",
       "      <td>2019-03-01 00:14:42.588</td>\n",
       "      <td>300.0</td>\n",
       "      <td>Palm St at Willow St</td>\n",
       "      <td>312.0</td>\n",
       "      <td>San Jose Diridon Station</td>\n",
       "      <td>3803</td>\n",
       "      <td>Subscriber</td>\n",
       "      <td>1983.0</td>\n",
       "      <td>Female</td>\n",
       "      <td>No</td>\n",
       "      <td>19.116667</td>\n",
       "      <td>0.318611</td>\n",
       "      <td>2019-02-28</td>\n",
       "      <td>23</td>\n",
       "      <td>Thursday</td>\n",
       "      <td>February</td>\n",
       "      <td>36.0</td>\n",
       "    </tr>\n",
       "    <tr>\n",
       "      <th>3</th>\n",
       "      <td>1615</td>\n",
       "      <td>2019-02-28 23:41:06.766</td>\n",
       "      <td>2019-03-01 00:08:02.756</td>\n",
       "      <td>10.0</td>\n",
       "      <td>Washington St at Kearny St</td>\n",
       "      <td>127.0</td>\n",
       "      <td>Valencia St at 21st St</td>\n",
       "      <td>6329</td>\n",
       "      <td>Subscriber</td>\n",
       "      <td>1989.0</td>\n",
       "      <td>Male</td>\n",
       "      <td>No</td>\n",
       "      <td>26.916667</td>\n",
       "      <td>0.448611</td>\n",
       "      <td>2019-02-28</td>\n",
       "      <td>23</td>\n",
       "      <td>Thursday</td>\n",
       "      <td>February</td>\n",
       "      <td>30.0</td>\n",
       "    </tr>\n",
       "    <tr>\n",
       "      <th>4</th>\n",
       "      <td>1570</td>\n",
       "      <td>2019-02-28 23:41:48.790</td>\n",
       "      <td>2019-03-01 00:07:59.715</td>\n",
       "      <td>10.0</td>\n",
       "      <td>Washington St at Kearny St</td>\n",
       "      <td>127.0</td>\n",
       "      <td>Valencia St at 21st St</td>\n",
       "      <td>6548</td>\n",
       "      <td>Subscriber</td>\n",
       "      <td>1988.0</td>\n",
       "      <td>Other</td>\n",
       "      <td>No</td>\n",
       "      <td>26.166667</td>\n",
       "      <td>0.436111</td>\n",
       "      <td>2019-02-28</td>\n",
       "      <td>23</td>\n",
       "      <td>Thursday</td>\n",
       "      <td>February</td>\n",
       "      <td>31.0</td>\n",
       "    </tr>\n",
       "  </tbody>\n",
       "</table>\n",
       "</div>"
      ],
      "text/plain": [
       "   duration_sec               start_time                 end_time  \\\n",
       "0          1585  2019-02-28 23:54:18.549  2019-03-01 00:20:44.074   \n",
       "1          1793  2019-02-28 23:49:58.632  2019-03-01 00:19:51.760   \n",
       "2          1147  2019-02-28 23:55:35.104  2019-03-01 00:14:42.588   \n",
       "3          1615  2019-02-28 23:41:06.766  2019-03-01 00:08:02.756   \n",
       "4          1570  2019-02-28 23:41:48.790  2019-03-01 00:07:59.715   \n",
       "\n",
       "   start_station_id            start_station_name  end_station_id  \\\n",
       "0               7.0           Frank H Ogawa Plaza           222.0   \n",
       "1              93.0  4th St at Mission Bay Blvd S           323.0   \n",
       "2             300.0          Palm St at Willow St           312.0   \n",
       "3              10.0    Washington St at Kearny St           127.0   \n",
       "4              10.0    Washington St at Kearny St           127.0   \n",
       "\n",
       "           end_station_name  bike_id   user_type  member_birth_year  \\\n",
       "0     10th Ave at E 15th St     4898  Subscriber             1974.0   \n",
       "1        Broadway at Kearny     5200  Subscriber             1959.0   \n",
       "2  San Jose Diridon Station     3803  Subscriber             1983.0   \n",
       "3    Valencia St at 21st St     6329  Subscriber             1989.0   \n",
       "4    Valencia St at 21st St     6548  Subscriber             1988.0   \n",
       "\n",
       "  member_gender bike_share_for_all_trip  duration_minute  duration_hour  \\\n",
       "0          Male                     Yes        26.416667       0.440278   \n",
       "1          Male                      No        29.883333       0.498056   \n",
       "2        Female                      No        19.116667       0.318611   \n",
       "3          Male                      No        26.916667       0.448611   \n",
       "4         Other                      No        26.166667       0.436111   \n",
       "\n",
       "   start_date  start_hourofday start_dayofweek start_month  member_age  \n",
       "0  2019-02-28               23        Thursday    February        45.0  \n",
       "1  2019-02-28               23        Thursday    February        60.0  \n",
       "2  2019-02-28               23        Thursday    February        36.0  \n",
       "3  2019-02-28               23        Thursday    February        30.0  \n",
       "4  2019-02-28               23        Thursday    February        31.0  "
      ]
     },
     "execution_count": 146,
     "metadata": {},
     "output_type": "execute_result"
    }
   ],
   "source": [
    "df=pd.read_csv('Cleaned.csv')\n",
    "df.head()"
   ]
  },
  {
   "cell_type": "code",
   "execution_count": 147,
   "id": "3d423271",
   "metadata": {},
   "outputs": [
    {
     "name": "stdout",
     "output_type": "stream",
     "text": [
      "<class 'pandas.core.frame.DataFrame'>\n",
      "RangeIndex: 174567 entries, 0 to 174566\n",
      "Data columns (total 19 columns):\n",
      " #   Column                   Non-Null Count   Dtype  \n",
      "---  ------                   --------------   -----  \n",
      " 0   duration_sec             174567 non-null  int64  \n",
      " 1   start_time               174567 non-null  object \n",
      " 2   end_time                 174567 non-null  object \n",
      " 3   start_station_id         174567 non-null  float64\n",
      " 4   start_station_name       174567 non-null  object \n",
      " 5   end_station_id           174567 non-null  float64\n",
      " 6   end_station_name         174567 non-null  object \n",
      " 7   bike_id                  174567 non-null  int64  \n",
      " 8   user_type                174567 non-null  object \n",
      " 9   member_birth_year        174567 non-null  float64\n",
      " 10  member_gender            174567 non-null  object \n",
      " 11  bike_share_for_all_trip  174567 non-null  object \n",
      " 12  duration_minute          174567 non-null  float64\n",
      " 13  duration_hour            174567 non-null  float64\n",
      " 14  start_date               174567 non-null  object \n",
      " 15  start_hourofday          174567 non-null  int64  \n",
      " 16  start_dayofweek          174567 non-null  object \n",
      " 17  start_month              174567 non-null  object \n",
      " 18  member_age               174567 non-null  float64\n",
      "dtypes: float64(6), int64(3), object(10)\n",
      "memory usage: 25.3+ MB\n"
     ]
    }
   ],
   "source": [
    "df.info()"
   ]
  },
  {
   "cell_type": "markdown",
   "id": "b7130ab5",
   "metadata": {},
   "source": [
    "### What is the structure of your dataset?\n",
    "\n",
    "The original combined data contains approximately 183,412 trip records with 16 variables collected. The variables can be divided into Three categories:\n",
    "\n",
    "> The duration: `duration_sec`, `start_time`, `end_time`\n",
    "> station info: `start_station_id`, `start_station_name`, `start_station_latitude`, `start_station_longitude`, `end_station_id`, `end_station_name`, `end_station_latitude`, `end_station_longitude`\n",
    "> member info: `bike_id`, `user_type`, `member_birth_year`, `member_gender`, `bike_share_for_all_trip`\n",
    "\n",
    "Derived variables to assist analysis:\n",
    "> More info about Duration: `duration_minute`,`duration_hour`, `start_date`, `start_hourofday`, `start_dayofweek`, `start_month`\n",
    "> member info: `member_age`\n",
    "\n",
    "### What is/are the main feature(s) of interest in your dataset?\n",
    "I am interested in investigate duration of biking time.\n",
    "When are most trips taken in terms of time of day, day of the week, or month of the year?\n",
    "How long does the average trip take? \n",
    "Does the above depend on if a user is a subscriber or customer?\n",
    "\n",
    "### What features in the dataset do you think will help support your investigation into your feature(s) of interest?\n",
    "\n",
    "I think the following features may help to support my investigation \n",
    "> - `duration_minute`,`duration_hour`, `start_date`, `start_hourofday`, `start_dayofweek`, `start_month`\n",
    "> - `member_age`\n",
    "> - `member_gender`\n",
    "> - `user_type`"
   ]
  },
  {
   "cell_type": "markdown",
   "id": "5427f563",
   "metadata": {},
   "source": [
    "## Univariate Exploration\n",
    "\n",
    ">- Explore the trips distribution over hour-of-day, day-of-week and month\n",
    ">- Explore riders User-type, member_gender, bike_share_for_all_trip and member_age.\n",
    ">- Explore Trip duration duration_minute."
   ]
  },
  {
   "cell_type": "code",
   "execution_count": 148,
   "id": "c97de52b",
   "metadata": {},
   "outputs": [
    {
     "data": {
      "image/png": "[encoded data removed]",
      "text/plain": [
       "<Figure size 576x432 with 1 Axes>"
      ]
     },
     "metadata": {},
     "output_type": "display_data"
    }
   ],
   "source": [
    "# trip distribution over hour of day \n",
    "\n",
    "plt.rcParams['figure.figsize'] = 8, 6\n",
    "base_color = sb.color_palette('colorblind')[0]\n",
    "sb.set_style('darkgrid')\n",
    "\n",
    "sb.countplot(data=df, x='start_hourofday', color=base_color);\n",
    "\n",
    "x_y_t('Trip Start Hour of Day','Count','Trip distribution over hour of day');"
   ]
  },
  {
   "cell_type": "markdown",
   "id": "6a943fe8",
   "metadata": {},
   "source": [
    "It is quite Observed that the majority of rides happened in hours around two timeframes, 7am-9am and 16pm-18pm"
   ]
  },
  {
   "cell_type": "code",
   "execution_count": 149,
   "id": "30994e0c",
   "metadata": {},
   "outputs": [
    {
     "data": {
      "image/png": "[encoded data removed]",
      "text/plain": [
       "<Figure size 576x432 with 1 Axes>"
      ]
     },
     "metadata": {},
     "output_type": "display_data"
    }
   ],
   "source": [
    "# trip distribution over Day of Week\n",
    "\n",
    "weekday = ['Monday', 'Tuesday', 'Wednesday', 'Thursday', 'Friday', 'Saturday', 'Sunday']\n",
    "weekdaycat = pd.api.types.CategoricalDtype(ordered=True, categories=weekday)\n",
    "df['start_dayofweek'] = df['start_dayofweek'].astype(weekdaycat)\n",
    "\n",
    "sb.countplot(data=df, x='start_dayofweek', color=base_color);\n",
    "\n",
    "x_y_t('Trip Start Day of Week','Count','Trip distribution over hour of Week');"
   ]
  },
  {
   "cell_type": "markdown",
   "id": "9a704364",
   "metadata": {},
   "source": [
    "It is quite Observed that the majority of rides happened on work days (Tuesday-Tursday) \n",
    "and miniorty od rides happened on Weekend days (Saturday and Sunday)"
   ]
  },
  {
   "cell_type": "code",
   "execution_count": 150,
   "id": "16543e84",
   "metadata": {},
   "outputs": [
    {
     "data": {
      "image/png": "[encoded data removed]",
      "text/plain": [
       "<Figure size 576x432 with 1 Axes>"
      ]
     },
     "metadata": {},
     "output_type": "display_data"
    }
   ],
   "source": [
    "# Type of Users ride the bikes\n",
    "\n",
    "sb.countplot(data=df, x='user_type', color=base_color);\n",
    "\n",
    "x_y_t('User Type','Count','Type of Users ride the bikes');"
   ]
  },
  {
   "cell_type": "markdown",
   "id": "0e768f37",
   "metadata": {},
   "source": [
    "It is Observed that the majority riders is Subscribers"
   ]
  },
  {
   "cell_type": "code",
   "execution_count": 151,
   "id": "473be3c9",
   "metadata": {},
   "outputs": [
    {
     "data": {
      "image/png": "[encoded data removed]",
      "text/plain": [
       "<Figure size 576x432 with 1 Axes>"
      ]
     },
     "metadata": {},
     "output_type": "display_data"
    }
   ],
   "source": [
    "# Gender of Users ride the bikes\n",
    "\n",
    "sb.countplot(data=df, x='member_gender', color=base_color);\n",
    "\n",
    "x_y_t('Gender','Count','Gender of Users ride the bikes');"
   ]
  },
  {
   "cell_type": "markdown",
   "id": "479bd7ce",
   "metadata": {},
   "source": [
    "It is Observed that the majority riders is Male"
   ]
  },
  {
   "cell_type": "code",
   "execution_count": 152,
   "id": "9ec69709",
   "metadata": {},
   "outputs": [
    {
     "data": {
      "image/png": "[encoded data removed]",
      "text/plain": [
       "<Figure size 576x432 with 1 Axes>"
      ]
     },
     "metadata": {},
     "output_type": "display_data"
    }
   ],
   "source": [
    "# Age of Users ride the bikes\n",
    "\n",
    "bins = np.arange(0, df['member_age'].max()+5, 5)\n",
    "plt.hist(data=df, x='member_age', bins=bins);\n",
    "plt.xticks(bins, bins);\n",
    "\n",
    "x_y_t('Member Age','Count','Age of Users ride the bikes');"
   ]
  },
  {
   "cell_type": "markdown",
   "id": "d345c342",
   "metadata": {},
   "source": [
    "It is Observed that the majority riders age is between 25 year to 35 year"
   ]
  },
  {
   "cell_type": "code",
   "execution_count": 153,
   "id": "e5f928aa",
   "metadata": {},
   "outputs": [
    {
     "data": {
      "image/png": "[encoded data removed]",
      "text/plain": [
       "<Figure size 576x432 with 1 Axes>"
      ]
     },
     "metadata": {},
     "output_type": "display_data"
    }
   ],
   "source": [
    "# Explore the trip duration \n",
    "\n",
    "bins = np.arange(0, 66, 1)\n",
    "ticks = np.arange(0, 66, 5)\n",
    "plt.hist(data=df, x='duration_minute', bins=bins);\n",
    "plt.xticks(ticks, ticks);\n",
    "\n",
    "x_y_t('Duration in Minute','Count','Trips number per Duration in Minute');"
   ]
  },
  {
   "cell_type": "markdown",
   "id": "9d15ff06",
   "metadata": {},
   "source": [
    "It is Observed that the majority Duration between 5 to 10 minutes"
   ]
  },
  {
   "cell_type": "markdown",
   "id": "2818d67a",
   "metadata": {},
   "source": [
    "**Observations from above plots:**\n",
    "\n",
    ">- the majority of rides happened in hours around two timeframes, 7am-9am and 16pm-18pm\n",
    ">- the majority of rides happened on work days (Tuesday-Tursday) and miniorty od rides happened on Weekend days (Saturday and Sunday).\n",
    ">- the majority riders is Subscribers\n",
    ">- the majority riders is Male\n",
    ">- the majority riders age is between 25 year to 35 year\n",
    ">- the majority trips duration between 5 to 10 minutes"
   ]
  },
  {
   "cell_type": "markdown",
   "id": "6c9edac6",
   "metadata": {},
   "source": [
    "## Bivariate Exploration\n",
    "\n",
    ">- How does the trip duration distribution vary between customers and subscribers?\n",
    ">- How does the trip duration distribution vary between members gender?\n",
    ">- How does the trip duration distribution vary between Days of Week?\n",
    ">- How does riders' member age vary between Days of Week?\n",
    ">- How does riders' member age vary between between customers and subscribers?"
   ]
  },
  {
   "cell_type": "code",
   "execution_count": 154,
   "id": "286d3e8b",
   "metadata": {},
   "outputs": [
    {
     "data": {
      "image/png": "[encoded data removed]",
      "text/plain": [
       "<Figure size 576x432 with 1 Axes>"
      ]
     },
     "metadata": {},
     "output_type": "display_data"
    }
   ],
   "source": [
    "# How does the trip duration distribution vary between customers and subscribers?\n",
    "\n",
    "sb.violinplot(data=df, x='user_type', y='duration_minute', color=base_color, inner='quartile');\n",
    "\n",
    "x_y_t('User Type','Trip Duration in Minute','the trip duration distribution vary between User Type');"
   ]
  },
  {
   "cell_type": "markdown",
   "id": "cef5ae37",
   "metadata": {},
   "source": [
    "Subscriber user is the shortest Duration"
   ]
  },
  {
   "cell_type": "code",
   "execution_count": 155,
   "id": "e45d858a",
   "metadata": {},
   "outputs": [
    {
     "data": {
      "image/png": "[encoded data removed]",
      "text/plain": [
       "<Figure size 576x432 with 1 Axes>"
      ]
     },
     "metadata": {},
     "output_type": "display_data"
    }
   ],
   "source": [
    "#How does the trip duration distribution vary between members gender?\n",
    "\n",
    "sb.violinplot(data=df, x='member_gender', y='duration_minute', color=base_color, inner='quartile');\n",
    "\n",
    "x_y_t('Gender','Trip Duration in Minute','the trip duration distribution vary between member gender');"
   ]
  },
  {
   "cell_type": "markdown",
   "id": "82a65b66",
   "metadata": {},
   "source": [
    "Male members is the shortest Duration"
   ]
  },
  {
   "cell_type": "code",
   "execution_count": 156,
   "id": "8484f757",
   "metadata": {},
   "outputs": [
    {
     "data": {
      "image/png": "[encoded data removed]",
      "text/plain": [
       "<Figure size 576x432 with 1 Axes>"
      ]
     },
     "metadata": {},
     "output_type": "display_data"
    }
   ],
   "source": [
    "# How does the trip duration distribution vary between Days of Week?\n",
    "\n",
    "sb.barplot(data=df, x='start_dayofweek', y='duration_minute', color=base_color);\n",
    "\n",
    "x_y_t('Day of Week','Avg. Trip Duration in Minute','The trip duration distribution vary between Days of Week');"
   ]
  },
  {
   "cell_type": "markdown",
   "id": "7e81be67",
   "metadata": {},
   "source": [
    "Saturday and Sunday is the longest Duration"
   ]
  },
  {
   "cell_type": "code",
   "execution_count": 157,
   "id": "5776a289",
   "metadata": {},
   "outputs": [
    {
     "data": {
      "image/png": "[encoded data removed]",
      "text/plain": [
       "<Figure size 576x432 with 1 Axes>"
      ]
     },
     "metadata": {},
     "output_type": "display_data"
    }
   ],
   "source": [
    "# How does riders' member age vary between Days of Week?\n",
    "\n",
    "sb.barplot(data=df, x='start_dayofweek', y='member_age', color=base_color);\n",
    "\n",
    "x_y_t('Day of Week','member_age','riders member age vary between Days of Week');"
   ]
  },
  {
   "cell_type": "markdown",
   "id": "780e06ea",
   "metadata": {},
   "source": [
    "the riders who used the bicks in saturday and sunday is more youngest"
   ]
  },
  {
   "cell_type": "code",
   "execution_count": 158,
   "id": "803866b7",
   "metadata": {},
   "outputs": [
    {
     "data": {
      "image/png": "[encoded data removed]",
      "text/plain": [
       "<Figure size 576x432 with 1 Axes>"
      ]
     },
     "metadata": {},
     "output_type": "display_data"
    }
   ],
   "source": [
    "# How does riders' member age vary between between customers and subscribers?\n",
    "\n",
    "sb.boxplot(data=df, x='user_type', y='member_age', color=base_color);\n",
    "\n",
    "x_y_t('User Type','member_age','riders member age vary between User type');"
   ]
  },
  {
   "cell_type": "markdown",
   "id": "f5f533ca",
   "metadata": {},
   "source": [
    "Customer riders is the youngest"
   ]
  },
  {
   "cell_type": "markdown",
   "id": "037a99ce",
   "metadata": {},
   "source": [
    "**Observations from above plots:**\n",
    "\n",
    ">- Subscriber user is the shortest Duration\n",
    ">- Male members is the shortest Duration\n",
    ">- Saturday and Sunday is the longest Duration\n",
    ">- the riders who used the bicks in saturday and sunday is more youngest\n",
    ">-Customer riders is the youngest"
   ]
  },
  {
   "cell_type": "markdown",
   "id": "c9bf6fa1",
   "metadata": {},
   "source": [
    "## Multivariate Exploration\n",
    "\n",
    ">- How does the average trip duration vary in weekdays between customers and subscribers?\n",
    ">- How does riders member gender vary in weekdays between customers and subscribers?"
   ]
  },
  {
   "cell_type": "code",
   "execution_count": 159,
   "id": "f034ff97",
   "metadata": {},
   "outputs": [
    {
     "data": {
      "image/png": "[encoded data removed]",
      "text/plain": [
       "<Figure size 576x432 with 1 Axes>"
      ]
     },
     "metadata": {},
     "output_type": "display_data"
    }
   ],
   "source": [
    "# How does the average trip duration vary in weekdays between customers and subscribers?\n",
    "\n",
    "sb.pointplot(data=df, x='start_dayofweek', y='duration_minute', hue='user_type');\n",
    "\n",
    "x_y_t('Day of Week','Duration in Minute','the average trip duration vary in weekdays between User type');"
   ]
  },
  {
   "cell_type": "markdown",
   "id": "7dcccd9c",
   "metadata": {},
   "source": [
    "The subscribers ride much shorter trips compared to customers "
   ]
  },
  {
   "cell_type": "code",
   "execution_count": 160,
   "id": "f9343dca",
   "metadata": {},
   "outputs": [
    {
     "data": {
      "image/png": "[encoded data removed]",
      "text/plain": [
       "<Figure size 576x432 with 1 Axes>"
      ]
     },
     "metadata": {},
     "output_type": "display_data"
    }
   ],
   "source": [
    "# How does riders member gender vary in weekdays between customers and subscribers?\n",
    "\n",
    "sb.pointplot(data=df, x='start_dayofweek', y='duration_minute', hue='member_gender');\n",
    "\n",
    "x_y_t('Day of Week','Duration in Minute','riders member gender vary in weekdays between User type');"
   ]
  },
  {
   "cell_type": "markdown",
   "id": "07dd21e6",
   "metadata": {},
   "source": [
    "Male riders are the shortest trips"
   ]
  },
  {
   "cell_type": "markdown",
   "id": "781cd929",
   "metadata": {},
   "source": [
    "**Observations from above plots:**\n",
    "\n",
    ">- The subscribers ride much shorter trips duration compared to customers Over all days of week\n",
    ">- Male riders are the shortest trip duration Over all days of week"
   ]
  }
 ],
 "metadata": {
  "kernelspec": {
   "display_name": "Python 3",
   "language": "python",
   "name": "python3"
  },
  "language_info": {
   "codemirror_mode": {
    "name": "ipython",
    "version": 3
   },
   "file_extension": ".py",
   "mimetype": "text/x-python",
   "name": "python",
   "nbconvert_exporter": "python",
   "pygments_lexer": "ipython3",
   "version": "3.8.8"
  }
 },
 "nbformat": 4,
 "nbformat_minor": 5
}
